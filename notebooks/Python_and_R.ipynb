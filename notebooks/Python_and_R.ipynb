{
 "cells": [
  {
   "cell_type": "markdown",
   "metadata": {},
   "source": [
    "### немного магии"
   ]
  },
  {
   "cell_type": "code",
   "execution_count": 1,
   "metadata": {},
   "outputs": [],
   "source": [
    "%load_ext rpy2.ipython"
   ]
  },
  {
   "cell_type": "markdown",
   "metadata": {},
   "source": [
    "# Базовые типы\n",
    "\n",
    "| Тип | Пример |\n",
    "|----|---|\n",
    "| int  | 10 |\n",
    "| float  | 10.1 |\n",
    "| str  | \"число\" |\n",
    "| bool  | True |\n",
    "| NoneType  | None |"
   ]
  },
  {
   "cell_type": "markdown",
   "metadata": {},
   "source": [
    "### int (integer; a whole number with no decimal place)"
   ]
  },
  {
   "cell_type": "code",
   "execution_count": 2,
   "metadata": {},
   "outputs": [
    {
     "name": "stdout",
     "output_type": "stream",
     "text": [
      "[1] -3\n"
     ]
    }
   ],
   "source": [
    "%%R\n",
    "10\n",
    "-3"
   ]
  },
  {
   "cell_type": "code",
   "execution_count": 3,
   "metadata": {
    "lines_to_next_cell": 2
   },
   "outputs": [
    {
     "data": {
      "text/plain": [
       "-3"
      ]
     },
     "execution_count": 3,
     "metadata": {},
     "output_type": "execute_result"
    }
   ],
   "source": [
    "10\n",
    "-3"
   ]
  },
  {
   "cell_type": "markdown",
   "metadata": {},
   "source": [
    "### float (float; a number that has a decimal place)\n",
    "   "
   ]
  },
  {
   "cell_type": "code",
   "execution_count": 4,
   "metadata": {},
   "outputs": [
    {
     "name": "stdout",
     "output_type": "stream",
     "text": [
      "[1] 7.41\n"
     ]
    }
   ],
   "source": [
    "%%R\n",
    "7.41"
   ]
  },
  {
   "cell_type": "code",
   "execution_count": 5,
   "metadata": {
    "lines_to_next_cell": 2
   },
   "outputs": [
    {
     "data": {
      "text/plain": [
       "-0.006"
      ]
     },
     "execution_count": 5,
     "metadata": {},
     "output_type": "execute_result"
    }
   ],
   "source": [
    "7.41\n",
    "-0.006"
   ]
  },
  {
   "cell_type": "markdown",
   "metadata": {},
   "source": [
    "### str (string; a sequence of characters enclosed in single quotes, double quotes, or triple quotes)"
   ]
  },
  {
   "cell_type": "code",
   "execution_count": 6,
   "metadata": {},
   "outputs": [
    {
     "name": "stdout",
     "output_type": "stream",
     "text": [
      "[1] \"строка из одинарных кавычек с \\\"строкой из двойных\\\"\"\n"
     ]
    }
   ],
   "source": [
    "%%R\n",
    "'строка в одинарных кавычек'\n",
    "\"строка в двойных кавычках\"\n",
    "\"строка в двойных кавычках со 'строкой из одинарных'\"\n",
    "'строка из одинарных кавычек с \"строкой из двойных\"'"
   ]
  },
  {
   "cell_type": "code",
   "execution_count": 7,
   "metadata": {},
   "outputs": [
    {
     "data": {
      "text/plain": [
       "'\\nтройных\\nкавычки\\nмультистроковы\\n'"
      ]
     },
     "execution_count": 7,
     "metadata": {},
     "output_type": "execute_result"
    }
   ],
   "source": [
    "'строка в одинарных кавычек'\n",
    "\"строка в двойных кавычках\"\n",
    "\"строка в двойных кавычках со 'строкой из одинарных'\"\n",
    "'строка из одинарных кавычек с \"строкой из двойных\"'\n",
    "'''строка в трех одинарных кавычек'''\n",
    "\"\"\"строка в трех двойных кавычках\"\"\"\n",
    "\"\"\"'одинарные кавычки' в строке с \"двойными\" в трех двойных\"\"\"\n",
    "\"\"\"\n",
    "тройных\n",
    "кавычки\n",
    "мультистроковы\n",
    "\"\"\""
   ]
  },
  {
   "cell_type": "markdown",
   "metadata": {},
   "source": [
    "### bool (boolean; a binary value that is either true or false)"
   ]
  },
  {
   "cell_type": "code",
   "execution_count": 8,
   "metadata": {},
   "outputs": [
    {
     "name": "stdout",
     "output_type": "stream",
     "text": [
      "[1] FALSE\n"
     ]
    }
   ],
   "source": [
    "%%R\n",
    "TRUE\n",
    "FALSE\n",
    "T \n",
    "F"
   ]
  },
  {
   "cell_type": "code",
   "execution_count": 9,
   "metadata": {},
   "outputs": [
    {
     "data": {
      "text/plain": [
       "False"
      ]
     },
     "execution_count": 9,
     "metadata": {},
     "output_type": "execute_result"
    }
   ],
   "source": [
    "True\n",
    "False"
   ]
  },
  {
   "cell_type": "markdown",
   "metadata": {},
   "source": [
    "### NoneType (a special type representing the absence of a value)"
   ]
  },
  {
   "cell_type": "code",
   "execution_count": 10,
   "metadata": {},
   "outputs": [
    {
     "name": "stdout",
     "output_type": "stream",
     "text": [
      "NULL\n"
     ]
    }
   ],
   "source": [
    "%%R\n",
    "NULL"
   ]
  },
  {
   "cell_type": "code",
   "execution_count": 11,
   "metadata": {},
   "outputs": [],
   "source": [
    "None"
   ]
  },
  {
   "cell_type": "markdown",
   "metadata": {},
   "source": [
    "### type"
   ]
  },
  {
   "cell_type": "code",
   "execution_count": 12,
   "metadata": {},
   "outputs": [
    {
     "data": {
      "text/plain": [
       "int"
      ]
     },
     "execution_count": 12,
     "metadata": {},
     "output_type": "execute_result"
    }
   ],
   "source": [
    "type(10)"
   ]
  },
  {
   "cell_type": "code",
   "execution_count": 13,
   "metadata": {},
   "outputs": [
    {
     "data": {
      "text/plain": [
       "float"
      ]
     },
     "execution_count": 13,
     "metadata": {},
     "output_type": "execute_result"
    }
   ],
   "source": [
    "type(10.1)"
   ]
  },
  {
   "cell_type": "code",
   "execution_count": 14,
   "metadata": {},
   "outputs": [
    {
     "data": {
      "text/plain": [
       "str"
      ]
     },
     "execution_count": 14,
     "metadata": {},
     "output_type": "execute_result"
    }
   ],
   "source": [
    "type('1')"
   ]
  },
  {
   "cell_type": "markdown",
   "metadata": {},
   "source": [
    "### преобразование типов"
   ]
  },
  {
   "cell_type": "code",
   "execution_count": 15,
   "metadata": {},
   "outputs": [
    {
     "data": {
      "text/plain": [
       "False"
      ]
     },
     "execution_count": 15,
     "metadata": {},
     "output_type": "execute_result"
    }
   ],
   "source": [
    "int(10.1)\n",
    "int('10')\n",
    "float('10.11')\n",
    "str(10)\n",
    "bool(10)\n",
    "bool(0)"
   ]
  },
  {
   "cell_type": "code",
   "execution_count": 16,
   "metadata": {},
   "outputs": [
    {
     "ename": "ValueError",
     "evalue": "could not convert string to float: '11 тысяч'",
     "output_type": "error",
     "traceback": [
      "\u001b[0;31m---------------------------------------------------------------------------\u001b[0m",
      "\u001b[0;31mValueError\u001b[0m                                Traceback (most recent call last)",
      "\u001b[0;32m<ipython-input-16-56fab567da97>\u001b[0m in \u001b[0;36m<module>\u001b[0;34m\u001b[0m\n\u001b[0;32m----> 1\u001b[0;31m \u001b[0mfloat\u001b[0m\u001b[0;34m(\u001b[0m\u001b[0;34m'11 тысяч'\u001b[0m\u001b[0;34m)\u001b[0m\u001b[0;34m\u001b[0m\u001b[0;34m\u001b[0m\u001b[0m\n\u001b[0m",
      "\u001b[0;31mValueError\u001b[0m: could not convert string to float: '11 тысяч'"
     ]
    }
   ],
   "source": [
    "float('11 тысяч')"
   ]
  },
  {
   "cell_type": "code",
   "execution_count": 17,
   "metadata": {},
   "outputs": [
    {
     "data": {
      "text/plain": [
       "'0xa'"
      ]
     },
     "execution_count": 17,
     "metadata": {},
     "output_type": "execute_result"
    }
   ],
   "source": [
    "oct(10)\n",
    "hex(10)"
   ]
  },
  {
   "cell_type": "markdown",
   "metadata": {},
   "source": [
    "неявные преобразования типов (в условиях, логических операторах, при выводе)"
   ]
  },
  {
   "cell_type": "markdown",
   "metadata": {},
   "source": [
    "## print"
   ]
  },
  {
   "cell_type": "code",
   "execution_count": 18,
   "metadata": {},
   "outputs": [
    {
     "name": "stdout",
     "output_type": "stream",
     "text": [
      "[1] 10\n"
     ]
    }
   ],
   "source": [
    "%%R\n",
    "print(10)"
   ]
  },
  {
   "cell_type": "code",
   "execution_count": 19,
   "metadata": {},
   "outputs": [
    {
     "name": "stdout",
     "output_type": "stream",
     "text": [
      "10\n",
      "10\n"
     ]
    }
   ],
   "source": [
    "print(10)\n",
    "print('{}'.format(10))"
   ]
  },
  {
   "cell_type": "markdown",
   "metadata": {},
   "source": [
    "## Операторы"
   ]
  },
  {
   "cell_type": "markdown",
   "metadata": {},
   "source": [
    "### арифметические\n",
    "\n",
    "| Symbol | Task Performed |\n",
    "|----|---|\n",
    "| +  | Addition |\n",
    "| -  | Subtraction |\n",
    "| /  | division |\n",
    "| %  | mod |\n",
    "| *  | multiplication |\n",
    "| //  | floor division |\n",
    "| **  | to the power of |"
   ]
  },
  {
   "cell_type": "code",
   "execution_count": 20,
   "metadata": {},
   "outputs": [
    {
     "name": "stdout",
     "output_type": "stream",
     "text": [
      "[1] 4\n",
      "[1] 0.6666667\n",
      "[1] 16\n"
     ]
    }
   ],
   "source": [
    "%%R\n",
    "print(2 + 2) \n",
    "print(2 / 3)\n",
    "print(2 * 8)"
   ]
  },
  {
   "cell_type": "code",
   "execution_count": 21,
   "metadata": {},
   "outputs": [
    {
     "name": "stdout",
     "output_type": "stream",
     "text": [
      "4\n",
      "0.6666666666666666\n",
      "16\n"
     ]
    }
   ],
   "source": [
    "print(2 + 2)\n",
    "print(2 / 3)\n",
    "print(2 * 8)"
   ]
  },
  {
   "cell_type": "code",
   "execution_count": 22,
   "metadata": {},
   "outputs": [
    {
     "data": {
      "text/plain": [
       "7"
      ]
     },
     "execution_count": 22,
     "metadata": {},
     "output_type": "execute_result"
    }
   ],
   "source": [
    "2 * 2 + 3"
   ]
  },
  {
   "cell_type": "markdown",
   "metadata": {},
   "source": [
    "### операторы отношений\n",
    "\n",
    "| Symbol | Task Performed |\n",
    "|----|---|\n",
    "| == | True, if it is equal |\n",
    "| !=  | True, if not equal to |\n",
    "| < | less than |\n",
    "| > | greater than |\n",
    "| <=  | less than or equal to |\n",
    "| >=  | greater than or equal to |"
   ]
  },
  {
   "cell_type": "code",
   "execution_count": 23,
   "metadata": {},
   "outputs": [
    {
     "name": "stdout",
     "output_type": "stream",
     "text": [
      "[1] FALSE\n"
     ]
    }
   ],
   "source": [
    "%%R\n",
    "1 > 3"
   ]
  },
  {
   "cell_type": "code",
   "execution_count": 24,
   "metadata": {},
   "outputs": [
    {
     "data": {
      "text/plain": [
       "False"
      ]
     },
     "execution_count": 24,
     "metadata": {},
     "output_type": "execute_result"
    }
   ],
   "source": [
    "1 > 3"
   ]
  },
  {
   "cell_type": "markdown",
   "metadata": {},
   "source": [
    "### логические \n",
    "\n",
    "| Symbol | Task Performed |\n",
    "|----|---|\n",
    "| &  | Logical And |\n",
    "| l  | Logical OR |\n",
    "| ^  | XOR |\n",
    "| ~  | Negate |\n",
    "| >>  | Right shift |\n",
    "| <<  | Left shift |"
   ]
  },
  {
   "cell_type": "code",
   "execution_count": 25,
   "metadata": {},
   "outputs": [
    {
     "name": "stdout",
     "output_type": "stream",
     "text": [
      "[1] TRUE\n"
     ]
    }
   ],
   "source": [
    "%%R\n",
    "1 | 0"
   ]
  },
  {
   "cell_type": "code",
   "execution_count": 26,
   "metadata": {},
   "outputs": [
    {
     "name": "stdout",
     "output_type": "stream",
     "text": [
      "[1] 4\n"
     ]
    }
   ],
   "source": [
    "%%R\n",
    "bitwShiftL(1, 2)"
   ]
  },
  {
   "cell_type": "code",
   "execution_count": 27,
   "metadata": {},
   "outputs": [
    {
     "data": {
      "text/plain": [
       "4"
      ]
     },
     "execution_count": 27,
     "metadata": {},
     "output_type": "execute_result"
    }
   ],
   "source": [
    "1 | 0\n",
    "1 << 2"
   ]
  },
  {
   "cell_type": "code",
   "execution_count": 28,
   "metadata": {},
   "outputs": [
    {
     "data": {
      "text/plain": [
       "'0b100'"
      ]
     },
     "execution_count": 28,
     "metadata": {},
     "output_type": "execute_result"
    }
   ],
   "source": [
    "bin(1)\n",
    "bin(2)\n",
    "bin(4)"
   ]
  },
  {
   "cell_type": "markdown",
   "metadata": {},
   "source": [
    "### Math"
   ]
  },
  {
   "cell_type": "code",
   "execution_count": 29,
   "metadata": {},
   "outputs": [
    {
     "name": "stdout",
     "output_type": "stream",
     "text": [
      "[1] 3\n"
     ]
    }
   ],
   "source": [
    "%%R\n",
    "v <- c(1, 3, 5)\n",
    "round(3.13)\n",
    "sum(v)\n",
    "sd(v)\n",
    "mean(v)\n",
    "median(v)"
   ]
  },
  {
   "cell_type": "code",
   "execution_count": 30,
   "metadata": {},
   "outputs": [
    {
     "data": {
      "text/plain": [
       "3.0"
      ]
     },
     "execution_count": 30,
     "metadata": {},
     "output_type": "execute_result"
    }
   ],
   "source": [
    "import math\n",
    "import numpy as np\n",
    "\n",
    "v = [1, 3, 5]\n",
    "round(3.13)\n",
    "sum(v)\n",
    "np.std(v)\n",
    "np.mean(v)\n",
    "np.median(v)"
   ]
  },
  {
   "cell_type": "markdown",
   "metadata": {},
   "source": [
    "## Переменные"
   ]
  },
  {
   "cell_type": "code",
   "execution_count": 31,
   "metadata": {},
   "outputs": [],
   "source": [
    "%%R\n",
    "a <- 1\n",
    "b <- 'one'\n",
    "c <- c(1, 2, 3)"
   ]
  },
  {
   "cell_type": "code",
   "execution_count": 32,
   "metadata": {},
   "outputs": [
    {
     "name": "stdout",
     "output_type": "stream",
     "text": [
      "[1] 1 2 3\n"
     ]
    }
   ],
   "source": [
    "%%R\n",
    "c"
   ]
  },
  {
   "cell_type": "code",
   "execution_count": 33,
   "metadata": {},
   "outputs": [],
   "source": [
    "a = 1\n",
    "b = 'one'\n",
    "c = [1, 2, 3]"
   ]
  },
  {
   "cell_type": "code",
   "execution_count": 34,
   "metadata": {},
   "outputs": [
    {
     "data": {
      "text/plain": [
       "[1, 2, 3]"
      ]
     },
     "execution_count": 34,
     "metadata": {},
     "output_type": "execute_result"
    }
   ],
   "source": [
    "c"
   ]
  },
  {
   "cell_type": "markdown",
   "metadata": {},
   "source": [
    "### именование\n",
    "\n",
    "имена переменных могут состоять из\n",
    "- букв\n",
    "- цифр\n",
    "- знака подчеркивания\n",
    "\n",
    "но начинаться только с букв и подчеркивания"
   ]
  },
  {
   "cell_type": "code",
   "execution_count": 35,
   "metadata": {
    "lines_to_next_cell": 2
   },
   "outputs": [],
   "source": [
    "abc1 = 1\n",
    "_abc1 = 1"
   ]
  },
  {
   "cell_type": "code",
   "execution_count": 36,
   "metadata": {},
   "outputs": [
    {
     "ename": "NameError",
     "evalue": "name 'ab' is not defined",
     "output_type": "error",
     "traceback": [
      "\u001b[0;31m---------------------------------------------------------------------------\u001b[0m",
      "\u001b[0;31mNameError\u001b[0m                                 Traceback (most recent call last)",
      "\u001b[0;32m<ipython-input-36-09c7d7628cde>\u001b[0m in \u001b[0;36m<module>\u001b[0;34m\u001b[0m\n\u001b[0;32m----> 1\u001b[0;31m \u001b[0mab\u001b[0m\u001b[0;34m.\u001b[0m\u001b[0mc\u001b[0m \u001b[0;34m=\u001b[0m \u001b[0;36m1\u001b[0m\u001b[0;34m\u001b[0m\u001b[0;34m\u001b[0m\u001b[0m\n\u001b[0m",
      "\u001b[0;31mNameError\u001b[0m: name 'ab' is not defined"
     ]
    }
   ],
   "source": [
    "ab.c = 1"
   ]
  },
  {
   "cell_type": "code",
   "execution_count": 37,
   "metadata": {},
   "outputs": [
    {
     "ename": "SyntaxError",
     "evalue": "invalid token (<ipython-input-37-6abe4500e251>, line 1)",
     "output_type": "error",
     "traceback": [
      "\u001b[0;36m  File \u001b[0;32m\"<ipython-input-37-6abe4500e251>\"\u001b[0;36m, line \u001b[0;32m1\u001b[0m\n\u001b[0;31m    1_abc = 1\u001b[0m\n\u001b[0m     ^\u001b[0m\n\u001b[0;31mSyntaxError\u001b[0m\u001b[0;31m:\u001b[0m invalid token\n"
     ]
    }
   ],
   "source": [
    "1_abc = 1"
   ]
  },
  {
   "cell_type": "code",
   "execution_count": 38,
   "metadata": {},
   "outputs": [
    {
     "ename": "SyntaxError",
     "evalue": "invalid syntax (<ipython-input-38-dbb844e64c6c>, line 1)",
     "output_type": "error",
     "traceback": [
      "\u001b[0;36m  File \u001b[0;32m\"<ipython-input-38-dbb844e64c6c>\"\u001b[0;36m, line \u001b[0;32m1\u001b[0m\n\u001b[0;31m    break = 1\u001b[0m\n\u001b[0m          ^\u001b[0m\n\u001b[0;31mSyntaxError\u001b[0m\u001b[0;31m:\u001b[0m invalid syntax\n"
     ]
    }
   ],
   "source": [
    "break = 1"
   ]
  },
  {
   "cell_type": "markdown",
   "metadata": {},
   "source": [
    "### 30+ keywords"
   ]
  },
  {
   "cell_type": "code",
   "execution_count": 39,
   "metadata": {},
   "outputs": [
    {
     "ename": "SyntaxError",
     "evalue": "invalid syntax (<ipython-input-39-440ad7d34537>, line 1)",
     "output_type": "error",
     "traceback": [
      "\u001b[0;36m  File \u001b[0;32m\"<ipython-input-39-440ad7d34537>\"\u001b[0;36m, line \u001b[0;32m1\u001b[0m\n\u001b[0;31m    and\u001b[0m\n\u001b[0m      ^\u001b[0m\n\u001b[0;31mSyntaxError\u001b[0m\u001b[0;31m:\u001b[0m invalid syntax\n"
     ]
    }
   ],
   "source": [
    "and\n",
    "as \n",
    "assert \n",
    "break \n",
    "class \n",
    "continue\n",
    "def\n",
    "del \n",
    "elif \n",
    "else \n",
    "except \n",
    "exec\n",
    "finally \n",
    "for \n",
    "from \n",
    "global \n",
    "if \n",
    "import\n",
    "in \n",
    "is \n",
    "lambda \n",
    "nonlocal \n",
    "not \n",
    "or\n",
    "pass \n",
    "raise \n",
    "return \n",
    "try \n",
    "while \n",
    "with\n",
    "yield \n",
    "True \n",
    "False \n",
    "None"
   ]
  },
  {
   "cell_type": "code",
   "execution_count": 40,
   "metadata": {},
   "outputs": [
    {
     "data": {
      "text/html": [
       "<!DOCTYPE html PUBLIC \"-//W3C//DTD XHTML 1.0 Transitional//EN\" \"http://www.w3.org/TR/xhtml1/DTD/xhtml1-transitional.dtd\">\n",
       "\n",
       "<html>\n",
       "<head>\n",
       "<meta content = 'uft-8' name = 'charset'></meta>\n",
       "\n",
       "<title>TwoHardThings</title>\n",
       "<meta http-equiv=\"Content-type\" content=\"text/html;charset=UTF-8\" />\n",
       "<meta content = 'summary' name = 'twitter:card'></meta>\n",
       "\n",
       "<meta content = '16665197' name = 'twitter:site:id'></meta>\n",
       "\n",
       "<meta content = 'bliki: TwoHardThings' property = 'og:title'></meta>\n",
       "\n",
       "<meta content = 'https://martinfowler.com/bliki/TwoHardThings.html' property = 'og:url'></meta>\n",
       "\n",
       "<meta content = 'There are only two hard things in Computer Science: cache invalidation and naming things -- Phil Karlton (bonus variations on the page)' property = 'og:description'></meta>\n",
       "\n",
       "<meta content = 'https://martinfowler.com/logo-sq.png' property = 'og:image'></meta>\n",
       "\n",
       "<meta content = 'martinfowler.com' property = 'og:site_name'></meta>\n",
       "\n",
       "<meta content = 'article' property = 'og:type'></meta>\n",
       "\n",
       "<meta content = '2009-07-14 00:00:00 -0400' property = 'og:article:modified_time'></meta>\n",
       "\n",
       "<meta content = 'width=device-width, initial-scale=1' name = 'viewport'></meta>\n",
       "\n",
       "<link href = '/bliki/entry.css' rel = 'stylesheet' type = 'text/css'></link>\n",
       "</head>\n",
       "\n",
       "<body><header id = 'banner' style = 'background-image: url(\"/img/zakim.png\"); background-repeat: no-repeat'>\n",
       "\n",
       "<div class = 'name-logo'><a href = 'https://martinfowler.com'><img src = '/mf-name-white.png'></img></a></div>\n",
       "  <div class = 'search'>\n",
       "    <!-- SiteSearch Google -->\n",
       "    <form method='GET' action=\"https://www.google.com/search\">\n",
       "      <input type='hidden' name='ie' value='UTF-8'/>\n",
       "      <input type='hidden' name='oe' value='UTF-8'/>\n",
       "      <input class = 'field' type='text' \n",
       "             name='q' size='15' maxlength='255' value=\"\"/>\n",
       "      <button class = 'button' type='submit' \n",
       "             name='btnG' value=\" \" title = \"Search\"/>\n",
       "      <input type='hidden' name='domains' value=\"martinfowler.com\"/>\n",
       "      <input type='hidden' name='sitesearch' value=\"\"/> \n",
       "      <input\n",
       "          type='hidden' name='sitesearch' value=\"martinfowler.com\"/>\n",
       "    </form>\n",
       "  </div>\n",
       "\n",
       "<div class = 'menu-button navmenu-button'><a class = 'icon icon-bars' href = '#navmenu-bottom'></a></div>\n",
       "\n",
       "<nav class = 'top-menu'>\n",
       "<ul>\n",
       "<li><a class = '' href = 'https://refactoring.com'>Refactoring</a></li>\n",
       "\n",
       "<li><a class = '' href = '/agile.html'>Agile</a></li>\n",
       "\n",
       "<li><a class = '' href = '/architecture'>Architecture</a></li>\n",
       "\n",
       "<li><a class = '' href = '/aboutMe.html'>About</a></li>\n",
       "\n",
       "<li><a class = 'tw' href = 'https://www.thoughtworks.com'>ThoughtWorks</a></li>\n",
       "\n",
       "<li><a class = 'icon icon-rss' href = '/feed.atom' title = 'feed'></a></li>\n",
       "\n",
       "<li><a class = 'icon icon-twitter' href = 'https://www.twitter.com/martinfowler' title = 'twitter stream'></a></li>\n",
       "</ul>\n",
       "</nav>\n",
       "</header>\n",
       "<nav id = 'top-navmenu'>\n",
       "<nav class = 'navmenu'>\n",
       "<div class = 'nav-head'>  <div class = 'search'>\n",
       "    <!-- SiteSearch Google -->\n",
       "    <form method='GET' action=\"https://www.google.com/search\">\n",
       "      <input type='hidden' name='ie' value='UTF-8'/>\n",
       "      <input type='hidden' name='oe' value='UTF-8'/>\n",
       "      <input class = 'field' type='text' \n",
       "             name='q' size='15' maxlength='255' value=\"\"/>\n",
       "      <button class = 'button' type='submit' \n",
       "             name='btnG' value=\" \" title = \"Search\"/>\n",
       "      <input type='hidden' name='domains' value=\"martinfowler.com\"/>\n",
       "      <input type='hidden' name='sitesearch' value=\"\"/> \n",
       "      <input\n",
       "          type='hidden' name='sitesearch' value=\"martinfowler.com\"/>\n",
       "    </form>\n",
       "  </div>\n",
       "\n",
       "<div class = 'closediv'>\n",
       "<span class = 'close' title = 'close'></span>\n",
       "</div>\n",
       "</div>\n",
       "\n",
       "<div class = 'nav-body'>\n",
       "<div class = 'topics'>\n",
       "<h2>Topics</h2>\n",
       "\n",
       "<p><a href = '/architecture'>Architecture</a></p>\n",
       "\n",
       "<p><a href = 'https://refactoring.com'>Refactoring</a></p>\n",
       "\n",
       "<p><a href = '/agile.html'>Agile</a></p>\n",
       "\n",
       "<p><a href = '/delivery.html'>Delivery</a></p>\n",
       "\n",
       "<p><a href = '/microservices'>Microservices</a></p>\n",
       "\n",
       "<p><a href = '/data'>Data</a></p>\n",
       "\n",
       "<p><a href = '/dsl.html'>DSL</a></p>\n",
       "</div>\n",
       "\n",
       "<div class = 'about'>\n",
       "<h2>about me</h2>\n",
       "\n",
       "<p><a href = '/aboutMe.html'>About</a></p>\n",
       "\n",
       "<p><a href = '/books'>Books</a></p>\n",
       "\n",
       "<p><a href = '/faq.html'>FAQ</a></p>\n",
       "</div>\n",
       "\n",
       "<div class = 'content'>\n",
       "<h2>content</h2>\n",
       "\n",
       "<p><a href = '/videos.html'>Videos</a></p>\n",
       "\n",
       "<p><a href = '/tags'>Content Index</a></p>\n",
       "\n",
       "<p><a href = '/articles/eurogames'>Board Games</a></p>\n",
       "\n",
       "<p><a href = '/photos'>Photography</a></p>\n",
       "</div>\n",
       "\n",
       "<div class = 'tw'>\n",
       "<h2>ThoughtWorks</h2>\n",
       "\n",
       "<p><a href = 'https://thoughtworks.com/insights'>Insights</a></p>\n",
       "\n",
       "<p><a href = 'https://thoughtworks.com/careers'>Careers</a></p>\n",
       "\n",
       "<p><a href = 'https://thoughtworks.com/products'>Products</a></p>\n",
       "</div>\n",
       "\n",
       "<div class = 'feeds'>\n",
       "<h2>follow</h2>\n",
       "\n",
       "<p><a href = 'https://www.twitter.com/martinfowler'>Twitter</a></p>\n",
       "\n",
       "<p><a href = '/feed.atom'>RSS</a></p>\n",
       "</div>\n",
       "</div>\n",
       "</nav>\n",
       "</nav>\n",
       "\n",
       "<main>\n",
       "<article>\n",
       "<h1><a href = TwoHardThings.html>TwoHardThings</a></h1>\n",
       "\n",
       "<p class = 'date'>14 July 2009</p>\n",
       "\n",
       "<div class = 'frontMatter'>\n",
       "<div class = 'author'>\n",
       "<p class = 'author-photo'><a href = '/'><img src = '/mf.jpg' title = 'Photo of Martin Fowler'></img></a></p>\n",
       "\n",
       "<p class = 'name'><a href = '/' rel = 'author'>Martin Fowler</a></p>\n",
       "</div>\n",
       "\n",
       "<div class = 'spacer'></div>\n",
       "\n",
       "<div class = 'tags'>\n",
       "<p class = 'tag-link'><a href = /tags/API%20design.html>API design</a></p>\n",
       "</div>\n",
       "</div>\n",
       "\n",
       "<div class = 'clear'></div>\n",
       "\n",
       "<div class = 'paperBody'>\n",
       "<blockquote>\n",
       "<p>There are only two hard things in Computer Science: cache\n",
       "    invalidation and naming things.</p>\n",
       "\n",
       "<p class = 'quote-attribution'>-- Phil Karlton</p>\n",
       "</blockquote>\n",
       "\n",
       "<p>Long a favorite saying of mine, one for which I couldn't find a\n",
       "  satisfactory URL.</p>\n",
       "\n",
       "<p>Like many good phrase, it's had a host of riffs on it. A couple of them I feel are worth\n",
       "  adding to the page</p>\n",
       "\n",
       "<div class = 'tweet'>\n",
       "<blockquote class = 'twitter-tweet' data-cards = 'hidden' lang = 'en'>\n",
       "    There are 2 hard problems in computer science: cache invalidation, naming things, and\n",
       "    off-by-1 errors.\n",
       "  <a href = 'https://twitter.com/secretGeek/status/7269997868'>-- Leon Bambrick</a></blockquote>\n",
       "<script async src=\"//platform.twitter.com/widgets.js\" charset=\"utf-8\"></script></div>\n",
       "\n",
       "<div class = 'tweet'>\n",
       "<blockquote class = 'twitter-tweet' data-cards = 'hidden' lang = 'en'>\n",
       "    There are only two hard problems in distributed systems: 2. Exactly-once delivery 1.\n",
       "    Guaranteed order of messages 2. Exactly-once delivery\n",
       "  <a href = 'https://twitter.com/mathiasverraes/status/632260618599403520'>-- Mathias Verraes</a></blockquote>\n",
       "<script async src=\"//platform.twitter.com/widgets.js\" charset=\"utf-8\"></script></div>\n",
       "\n",
       "<div class = 'tweet'>\n",
       "<blockquote class = 'twitter-tweet' data-cards = 'hidden' lang = 'en'>\n",
       "    there's two hard problems in computer science: we only have one joke and it's not funny.\n",
       "  <a href = 'https://twitter.com/pbowden/status/468855097879830528'>-- Phillip Scott Bowden</a></blockquote>\n",
       "<script async src=\"//platform.twitter.com/widgets.js\" charset=\"utf-8\"></script></div>\n",
       "\n",
       "<div class = 'appendix'>\n",
       "<p>The first place anyone found it on the internet was in <a href = 'http://www.tbray.org/ongoing/When/200x/2005/12/23/UPI'>Tim Bray's blog</a>. Tim said that <a href = 'https://twitter.com/timbray/status/817025379109990402?cn=cmVwbHk%3D'>he first heard\n",
       "    it</a> around 1996-7</p>\n",
       "</div>\n",
       "\n",
       "<div class = 'revisions'>\n",
       "<h2>Revisions</h2>\n",
       "\n",
       "<p>2009-07-14: original post</p>\n",
       "\n",
       "<p>2010-12-21: added off-by-one variation (unattributed)</p>\n",
       "\n",
       "<p>2015-08-14: added distributed tweet</p>\n",
       "\n",
       "<p>2017-03-30: added proper tweet for off-by-one and mention of Tim Bray's\n",
       "    source</p>\n",
       "\n",
       "<p>2017-12-22: added the Phillip Scott Bowden tweet</p>\n",
       "</div>\n",
       "\n",
       "<div class = 'acknowledgements'>\n",
       "<h2>Acknowledgements</h2>\n",
       "\n",
       "    Leon Bambrick let me know about better sources.\n",
       "  </div>\n",
       "</div>\n",
       "</article>\n",
       "\n",
       "<div class = 'clear'></div>\n",
       "</main>\n",
       "\n",
       "<nav id = 'bottom-navmenu'>\n",
       "<nav class = 'navmenu'>\n",
       "<div class = 'nav-head'>  <div class = 'search'>\n",
       "    <!-- SiteSearch Google -->\n",
       "    <form method='GET' action=\"https://www.google.com/search\">\n",
       "      <input type='hidden' name='ie' value='UTF-8'/>\n",
       "      <input type='hidden' name='oe' value='UTF-8'/>\n",
       "      <input class = 'field' type='text' \n",
       "             name='q' size='15' maxlength='255' value=\"\"/>\n",
       "      <button class = 'button' type='submit' \n",
       "             name='btnG' value=\" \" title = \"Search\"/>\n",
       "      <input type='hidden' name='domains' value=\"martinfowler.com\"/>\n",
       "      <input type='hidden' name='sitesearch' value=\"\"/> \n",
       "      <input\n",
       "          type='hidden' name='sitesearch' value=\"martinfowler.com\"/>\n",
       "    </form>\n",
       "  </div>\n",
       "\n",
       "<div class = 'closediv'>\n",
       "<span class = 'close' title = 'close'></span>\n",
       "</div>\n",
       "</div>\n",
       "\n",
       "<div class = 'nav-body'>\n",
       "<div class = 'topics'>\n",
       "<h2>Topics</h2>\n",
       "\n",
       "<p><a href = '/architecture'>Architecture</a></p>\n",
       "\n",
       "<p><a href = 'https://refactoring.com'>Refactoring</a></p>\n",
       "\n",
       "<p><a href = '/agile.html'>Agile</a></p>\n",
       "\n",
       "<p><a href = '/delivery.html'>Delivery</a></p>\n",
       "\n",
       "<p><a href = '/microservices'>Microservices</a></p>\n",
       "\n",
       "<p><a href = '/data'>Data</a></p>\n",
       "\n",
       "<p><a href = '/dsl.html'>DSL</a></p>\n",
       "</div>\n",
       "\n",
       "<div class = 'about'>\n",
       "<h2>about me</h2>\n",
       "\n",
       "<p><a href = '/aboutMe.html'>About</a></p>\n",
       "\n",
       "<p><a href = '/books'>Books</a></p>\n",
       "\n",
       "<p><a href = '/faq.html'>FAQ</a></p>\n",
       "</div>\n",
       "\n",
       "<div class = 'content'>\n",
       "<h2>content</h2>\n",
       "\n",
       "<p><a href = '/videos.html'>Videos</a></p>\n",
       "\n",
       "<p><a href = '/tags'>Content Index</a></p>\n",
       "\n",
       "<p><a href = '/articles/eurogames'>Board Games</a></p>\n",
       "\n",
       "<p><a href = '/photos'>Photography</a></p>\n",
       "</div>\n",
       "\n",
       "<div class = 'tw'>\n",
       "<h2>ThoughtWorks</h2>\n",
       "\n",
       "<p><a href = 'https://thoughtworks.com/insights'>Insights</a></p>\n",
       "\n",
       "<p><a href = 'https://thoughtworks.com/careers'>Careers</a></p>\n",
       "\n",
       "<p><a href = 'https://thoughtworks.com/products'>Products</a></p>\n",
       "</div>\n",
       "\n",
       "<div class = 'feeds'>\n",
       "<h2>follow</h2>\n",
       "\n",
       "<p><a href = 'https://www.twitter.com/martinfowler'>Twitter</a></p>\n",
       "\n",
       "<p><a href = '/feed.atom'>RSS</a></p>\n",
       "</div>\n",
       "</div>\n",
       "</nav>\n",
       "</nav>\n",
       "<footer id='page-footer'>\n",
       "<div class='tw-logo'>\n",
       "<a href='http://www.thoughtworks.com'>\n",
       "<img src='/tw-white-300.png'>\n",
       "</a>\n",
       "</div>\n",
       "<div class='menu-button'>\n",
       "<div class='icon-bars navmenu-button'></div>\n",
       "</div>\n",
       "<div class='copyright'>\n",
       "<p>© Martin Fowler | <a href=\"http://www.thoughtworks.com/privacy-policy\">Privacy Policy</a> | <a href=\"/aboutMe.html#disclosures\">Disclosures</a></p>\n",
       "</div>\n",
       "</footer>\n",
       "<!-- Google Analytics -->\n",
       "<script>\n",
       "window.ga=window.ga||function(){(ga.q=ga.q||[]).push(arguments)};ga.l=+new Date;\n",
       "ga('create', 'UA-17005812-1', 'auto');\n",
       "ga('send', 'pageview');\n",
       "</script>\n",
       "<script async src='https://www.google-analytics.com/analytics.js'></script>\n",
       "<!-- End Google Analytics -->\n",
       "\n",
       "\n",
       "\n",
       "<script src = '/jquery-1.11.3.min.js' type = 'text/javascript'></script>\n",
       "\n",
       "<script src = '/mfcom.js' type = 'text/javascript'></script>\n",
       "</body>\n",
       "</html>\n"
      ],
      "text/plain": [
       "<IPython.core.display.HTML object>"
      ]
     },
     "execution_count": 40,
     "metadata": {},
     "output_type": "execute_result"
    }
   ],
   "source": [
    "from IPython.display import HTML\n",
    "HTML('https://martinfowler.com/bliki/TwoHardThings.html')"
   ]
  },
  {
   "cell_type": "code",
   "execution_count": 41,
   "metadata": {},
   "outputs": [
    {
     "name": "stdout",
     "output_type": "stream",
     "text": [
      "The rpy2.ipython extension is already loaded. To reload it, use:\n",
      "  %reload_ext rpy2.ipython\n"
     ]
    }
   ],
   "source": [
    "%load_ext rpy2.ipython"
   ]
  },
  {
   "cell_type": "markdown",
   "metadata": {},
   "source": [
    "# control structures"
   ]
  },
  {
   "cell_type": "markdown",
   "metadata": {},
   "source": [
    "### if"
   ]
  },
  {
   "cell_type": "code",
   "execution_count": null,
   "metadata": {},
   "outputs": [],
   "source": [
    "if (1):\n",
    "    print(1)"
   ]
  },
  {
   "cell_type": "code",
   "execution_count": null,
   "metadata": {},
   "outputs": [],
   "source": [
    "%%R\n",
    "if (1) {\n",
    "    print(1)\n",
    "}"
   ]
  },
  {
   "cell_type": "markdown",
   "metadata": {},
   "source": [
    "### for"
   ]
  },
  {
   "cell_type": "code",
   "execution_count": null,
   "metadata": {
    "cell_style": "split"
   },
   "outputs": [],
   "source": [
    "lst = [1, 2, 3]\n",
    "\n",
    "for el in lst:\n",
    "    print(el)"
   ]
  },
  {
   "cell_type": "code",
   "execution_count": null,
   "metadata": {
    "cell_style": "split"
   },
   "outputs": [],
   "source": [
    "%%R\n",
    "\n",
    "lst <- c(1, 2, 3)\n",
    "for (el in lst) {\n",
    "    print(el)\n",
    "}"
   ]
  },
  {
   "cell_type": "markdown",
   "metadata": {},
   "source": [
    "### while"
   ]
  },
  {
   "cell_type": "code",
   "execution_count": null,
   "metadata": {
    "cell_style": "split"
   },
   "outputs": [],
   "source": [
    "i = 0\n",
    "while i < 10:\n",
    "    i = i + 1\n",
    "    print(i)"
   ]
  },
  {
   "cell_type": "code",
   "execution_count": null,
   "metadata": {},
   "outputs": [],
   "source": [
    "%%R\n",
    "i <- 0\n",
    "while (i < 10) {\n",
    "    i <- i + 1\n",
    "    print(i)\n",
    "}"
   ]
  },
  {
   "cell_type": "markdown",
   "metadata": {},
   "source": [
    "### repeat"
   ]
  },
  {
   "cell_type": "code",
   "execution_count": null,
   "metadata": {},
   "outputs": [],
   "source": [
    "####"
   ]
  },
  {
   "cell_type": "markdown",
   "metadata": {},
   "source": [
    "## functions"
   ]
  },
  {
   "cell_type": "code",
   "execution_count": null,
   "metadata": {},
   "outputs": [],
   "source": [
    "def foo(i):\n",
    "    print(i)\n",
    "    \n",
    "foo(1)"
   ]
  },
  {
   "cell_type": "code",
   "execution_count": null,
   "metadata": {},
   "outputs": [],
   "source": [
    "%%R\n",
    "foo <- function(i) \n",
    "{\n",
    "  print(i)\n",
    "}\n",
    "\n",
    "foo(1)\n",
    "\n",
    "\n",
    "## Пакеты\n",
    "\n",
    "### Установка"
   ]
  },
  {
   "cell_type": "code",
   "execution_count": null,
   "metadata": {},
   "outputs": [],
   "source": [
    "%%bash\n",
    "pip install pandas"
   ]
  },
  {
   "cell_type": "code",
   "execution_count": null,
   "metadata": {},
   "outputs": [],
   "source": [
    "%%R\n",
    "install.packages('dplyr')"
   ]
  },
  {
   "cell_type": "markdown",
   "metadata": {},
   "source": [
    "### Импортирование"
   ]
  },
  {
   "cell_type": "code",
   "execution_count": 10,
   "metadata": {},
   "outputs": [
    {
     "name": "stderr",
     "output_type": "stream",
     "text": [
      "/home/i/.local/lib/python3.5/site-packages/rpy2/rinterface/__init__.py:186: RRuntimeWarning: \n",
      "Attaching package: ‘dplyr’\n",
      "\n",
      "\n",
      "  warnings.warn(x, RRuntimeWarning)\n",
      "/home/i/.local/lib/python3.5/site-packages/rpy2/rinterface/__init__.py:186: RRuntimeWarning: The following objects are masked from ‘package:stats’:\n",
      "\n",
      "    filter, lag\n",
      "\n",
      "\n",
      "  warnings.warn(x, RRuntimeWarning)\n",
      "/home/i/.local/lib/python3.5/site-packages/rpy2/rinterface/__init__.py:186: RRuntimeWarning: The following objects are masked from ‘package:base’:\n",
      "\n",
      "    intersect, setdiff, setequal, union\n",
      "\n",
      "\n",
      "  warnings.warn(x, RRuntimeWarning)\n"
     ]
    }
   ],
   "source": [
    "%%R\n",
    "library('dplyr')"
   ]
  },
  {
   "cell_type": "code",
   "execution_count": 11,
   "metadata": {},
   "outputs": [],
   "source": [
    "import pandas "
   ]
  },
  {
   "cell_type": "markdown",
   "metadata": {},
   "source": [
    "## Working directory"
   ]
  },
  {
   "cell_type": "code",
   "execution_count": 23,
   "metadata": {},
   "outputs": [
    {
     "data": {
      "text/plain": [
       "[1] \"/home/i/80/hse/python/1\"\n",
       "[1] \"/tmp\"\n"
      ]
     },
     "metadata": {},
     "output_type": "display_data"
    }
   ],
   "source": [
    "%%R\n",
    "curdir <- getwd()\n",
    "print(curdir)\n",
    "setwd('/tmp')\n",
    "print(getwd())\n",
    "setwd(curdir)"
   ]
  },
  {
   "cell_type": "code",
   "execution_count": 21,
   "metadata": {},
   "outputs": [
    {
     "name": "stdout",
     "output_type": "stream",
     "text": [
      "/home/i/80/hse/python/1\n",
      "/tmp\n"
     ]
    }
   ],
   "source": [
    "import os\n",
    "curdir = os.getcwd()\n",
    "print(curdir)\n",
    "os.chdir('/tmp')\n",
    "print(os.getcwd())\n",
    "os.chdir(curdir)"
   ]
  },
  {
   "cell_type": "markdown",
   "metadata": {},
   "source": [
    "## DataFrames"
   ]
  },
  {
   "cell_type": "code",
   "execution_count": 32,
   "metadata": {},
   "outputs": [
    {
     "data": {
      "text/plain": [
       "  face  suit value\n",
       "1  ace clubs     1\n",
       "2  two clubs     2\n",
       "3  six clubs     3\n"
      ]
     },
     "metadata": {},
     "output_type": "display_data"
    }
   ],
   "source": [
    "%%R\n",
    "df <- data.frame(face = c(\"ace\", \"two\", \"six\"),\n",
    "    suit = c(\"clubs\", \"clubs\", \"clubs\"), value = c(1, 2, 3)) \n",
    "df"
   ]
  },
  {
   "cell_type": "code",
   "execution_count": 34,
   "metadata": {},
   "outputs": [
    {
     "data": {
      "text/plain": [
       "  face\n",
       "1  ace\n",
       "2  two\n",
       "3  six\n"
      ]
     },
     "metadata": {},
     "output_type": "display_data"
    }
   ],
   "source": [
    "%%R\n",
    "df[1]"
   ]
  },
  {
   "cell_type": "code",
   "execution_count": 33,
   "metadata": {},
   "outputs": [
    {
     "data": {
      "text/html": [
       "<div>\n",
       "<style>\n",
       "    .dataframe thead tr:only-child th {\n",
       "        text-align: right;\n",
       "    }\n",
       "\n",
       "    .dataframe thead th {\n",
       "        text-align: left;\n",
       "    }\n",
       "\n",
       "    .dataframe tbody tr th {\n",
       "        vertical-align: top;\n",
       "    }\n",
       "</style>\n",
       "<table border=\"1\" class=\"dataframe\">\n",
       "  <thead>\n",
       "    <tr style=\"text-align: right;\">\n",
       "      <th></th>\n",
       "      <th>face</th>\n",
       "      <th>suit</th>\n",
       "      <th>value</th>\n",
       "    </tr>\n",
       "  </thead>\n",
       "  <tbody>\n",
       "    <tr>\n",
       "      <th>0</th>\n",
       "      <td>ace</td>\n",
       "      <td>two</td>\n",
       "      <td>six</td>\n",
       "    </tr>\n",
       "    <tr>\n",
       "      <th>1</th>\n",
       "      <td>clubs</td>\n",
       "      <td>clubs</td>\n",
       "      <td>clubs</td>\n",
       "    </tr>\n",
       "    <tr>\n",
       "      <th>2</th>\n",
       "      <td>1</td>\n",
       "      <td>2</td>\n",
       "      <td>3</td>\n",
       "    </tr>\n",
       "  </tbody>\n",
       "</table>\n",
       "</div>"
      ],
      "text/plain": [
       "    face   suit  value\n",
       "0    ace    two    six\n",
       "1  clubs  clubs  clubs\n",
       "2      1      2      3"
      ]
     },
     "execution_count": 33,
     "metadata": {},
     "output_type": "execute_result"
    }
   ],
   "source": [
    "import pandas as pd\n",
    "\n",
    "df = pd.DataFrame([['ace', 'two', 'six'], ['clubs', 'clubs', 'clubs'], [1, 2, 3]], \n",
    "             columns=['face', 'suit', 'value'])\n",
    "df"
   ]
  },
  {
   "cell_type": "code",
   "execution_count": 37,
   "metadata": {},
   "outputs": [
    {
     "data": {
      "text/plain": [
       "face     ace\n",
       "suit     two\n",
       "value    six\n",
       "Name: 0, dtype: object"
      ]
     },
     "execution_count": 37,
     "metadata": {},
     "output_type": "execute_result"
    }
   ],
   "source": [
    "df.iloc[0]"
   ]
  },
  {
   "cell_type": "markdown",
   "metadata": {},
   "source": [
    "    rpy2 is an interface to R running embedded in a Python process, and also includes functionality to deal with pandas DataFrames\n",
    "https://pandas.pydata.org/pandas-docs/stable/r_interface.html"
   ]
  },
  {
   "cell_type": "markdown",
   "metadata": {},
   "source": [
    "### pandas2ri"
   ]
  },
  {
   "cell_type": "code",
   "execution_count": null,
   "metadata": {},
   "outputs": [],
   "source": [
    "from rpy2.robjects import r, pandas2ri\n",
    "from rpy2.robjects.packages import data\n",
    "from rpy2.robjects.packages import importr\n",
    "\n",
    "r.data('iris')"
   ]
  },
  {
   "cell_type": "code",
   "execution_count": null,
   "metadata": {},
   "outputs": [],
   "source": [
    "r['iris'].head()"
   ]
  },
  {
   "cell_type": "code",
   "execution_count": null,
   "metadata": {},
   "outputs": [],
   "source": [
    "datasets = importr('datasets')\n",
    "mtcars_env = data(datasets).fetch('mtcars')\n",
    "mtcars = mtcars_env['mtcars']\n",
    "\n",
    "# austres"
   ]
  },
  {
   "cell_type": "code",
   "execution_count": null,
   "metadata": {
    "lines_to_next_cell": 2
   },
   "outputs": [],
   "source": [
    "py_mtcars = pandas2ri.ri2py(mtcars)\n",
    "py_mtcars"
   ]
  },
  {
   "cell_type": "code",
   "execution_count": null,
   "metadata": {},
   "outputs": [],
   "source": [
    "pandas2ri.py2ri(mtcars)"
   ]
  },
  {
   "cell_type": "markdown",
   "metadata": {},
   "source": [
    "## importr"
   ]
  },
  {
   "cell_type": "markdown",
   "metadata": {},
   "source": [
    "### ggplot"
   ]
  },
  {
   "cell_type": "code",
   "execution_count": null,
   "metadata": {
    "lines_to_next_cell": 2
   },
   "outputs": [],
   "source": [
    "datasets = importr('datasets')\n",
    "# mtcars_env = data(datasets).fetch('austres')\n",
    "# mtcars = mtcars_env['austres']\n",
    "mtcars"
   ]
  },
  {
   "cell_type": "code",
   "execution_count": null,
   "metadata": {},
   "outputs": [],
   "source": [
    "%matplotlib inline\n",
    "import numpy as np\n",
    "import pandas as pd\n",
    "import rpy2.robjects.packages as packages\n",
    "import rpy2.robjects.lib.ggplot2 as ggplot2\n",
    "import rpy2.robjects as ro\n",
    "\n",
    "R = ro.r\n",
    "gp = ggplot2.ggplot(mtcars)\n",
    "pp = (gp \n",
    "      + ggplot2.aes_string(x='wt', y='mpg')\n",
    "      + ggplot2.geom_point(ggplot2.aes_string(colour='qsec'))\n",
    "      + ggplot2.scale_colour_gradient(low=\"yellow\", high=\"red\") \n",
    "      + ggplot2.geom_smooth(method='auto') \n",
    "      + ggplot2.labs(title=\"mtcars\", x='wt', y='mpg'))\n",
    "pp.plot()"
   ]
  },
  {
   "cell_type": "code",
   "execution_count": null,
   "metadata": {},
   "outputs": [],
   "source": [
    "# ggplot() \n",
    "# + geom_line(data = jul1, aes(x = dday, y = clean_sum, colour = \"Counts\")) \n",
    "# + geom_line(data = jul1, aes(x = dday, y = cnt_ma, colour = \"Weekly Moving Average\")) "
   ]
  },
  {
   "cell_type": "markdown",
   "metadata": {},
   "source": [
    "### ddplyr"
   ]
  },
  {
   "cell_type": "code",
   "execution_count": null,
   "metadata": {},
   "outputs": [],
   "source": [
    "from rpy2.robjects.lib.dplyr import DataFrame\n",
    "\n",
    "dataf = (DataFrame(mtcars).\n",
    "         filter('gear>3').\n",
    "         mutate(powertoweight='hp*36/wt').\n",
    "         group_by('gear').\n",
    "         summarize(mean_ptw='mean(powertoweight)'))\n",
    "\n",
    "dataf\n"
   ]
  },
  {
   "cell_type": "code",
   "execution_count": null,
   "metadata": {},
   "outputs": [],
   "source": [
    "import rpy2.ipython.html\n",
    "rpy2.ipython.html.init_printing()"
   ]
  },
  {
   "cell_type": "code",
   "execution_count": null,
   "metadata": {},
   "outputs": [],
   "source": [
    "from rpy2.robjects.lib.dplyr import (filter,\n",
    "                                     mutate,\n",
    "                                     group_by,\n",
    "                                     summarize)\n",
    "\n",
    "dataf = (DataFrame(mtcars) >>\n",
    "         filter('gear>3') >>\n",
    "         mutate(powertoweight='hp*36/wt') >>\n",
    "         group_by('gear') >>\n",
    "         summarize(mean_ptw='mean(powertoweight)'))\n",
    "\n",
    "dataf"
   ]
  },
  {
   "cell_type": "markdown",
   "metadata": {},
   "source": [
    "### foreign"
   ]
  },
  {
   "cell_type": "code",
   "execution_count": null,
   "metadata": {},
   "outputs": [],
   "source": [
    "foreign = importr('foreign')\n",
    "# pandas2ri.activateb"
   ]
  },
  {
   "cell_type": "code",
   "execution_count": null,
   "metadata": {},
   "outputs": [],
   "source": [
    "lst = foreign.read_spss('data/international.sav', use_value_labels=True, to_data_frame=True)\n",
    "lst"
   ]
  },
  {
   "cell_type": "code",
   "execution_count": null,
   "metadata": {},
   "outputs": [],
   "source": [
    "list(lst[4][:5])"
   ]
  }
 ],
 "metadata": {
  "jupytext": {
   "encoding": "# -*- coding: utf-8 -*-",
   "formats": "ipynb,py:light"
  },
  "kernelspec": {
   "display_name": "Python 3",
   "language": "python",
   "name": "python3"
  },
  "language_info": {
   "codemirror_mode": {
    "name": "ipython",
    "version": 3
   },
   "file_extension": ".py",
   "mimetype": "text/x-python",
   "name": "python",
   "nbconvert_exporter": "python",
   "pygments_lexer": "ipython3",
   "version": "3.6.8"
  },
  "toc": {
   "nav_menu": {},
   "number_sections": true,
   "sideBar": true,
   "skip_h1_title": false,
   "toc_cell": false,
   "toc_position": {},
   "toc_section_display": "block",
   "toc_window_display": false
  }
 },
 "nbformat": 4,
 "nbformat_minor": 2
}
