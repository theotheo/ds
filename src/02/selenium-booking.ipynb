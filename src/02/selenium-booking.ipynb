{
 "cells": [
  {
   "cell_type": "code",
   "execution_count": 32,
   "metadata": {
    "ExecuteTime": {
     "end_time": "2018-02-10T09:18:48.965827Z",
     "start_time": "2018-02-10T09:18:48.921948Z"
    }
   },
   "outputs": [],
   "source": [
    "import datetime as dt\n",
    "\n",
    "from selenium.webdriver import Firefox\n",
    "from selenium.webdriver.firefox.options import Options\n",
    "from selenium.webdriver.support.ui import Select\n",
    "opts = Options()\n",
    "# opts.set_headless()\n"
   ]
  },
  {
   "cell_type": "code",
   "execution_count": 33,
   "metadata": {
    "ExecuteTime": {
     "end_time": "2018-02-10T09:18:56.530656Z",
     "start_time": "2018-02-10T09:18:49.549688Z"
    }
   },
   "outputs": [],
   "source": [
    "driver = Firefox(options=opts)"
   ]
  },
  {
   "cell_type": "code",
   "execution_count": 34,
   "metadata": {
    "ExecuteTime": {
     "end_time": "2018-02-10T09:18:56.640978Z",
     "start_time": "2018-02-10T09:18:56.547342Z"
    }
   },
   "outputs": [],
   "source": [
    "check_in = dt.datetime.now()\n",
    "check_out = check_in + dt.timedelta(days=2)\n",
    "room_num = '1'\n",
    "adult_num = '1'\n",
    "children_num = '0'"
   ]
  },
  {
   "cell_type": "code",
   "execution_count": 51,
   "metadata": {
    "ExecuteTime": {
     "end_time": "2018-02-10T09:22:01.125214Z",
     "start_time": "2018-02-10T09:21:58.205857Z"
    }
   },
   "outputs": [],
   "source": [
    "\n",
    "driver.get('https://booking.com')"
   ]
  },
  {
   "cell_type": "code",
   "execution_count": 52,
   "metadata": {
    "ExecuteTime": {
     "end_time": "2018-02-10T09:22:01.298185Z",
     "start_time": "2018-02-10T09:22:01.132101Z"
    }
   },
   "outputs": [],
   "source": [
    "city_input = driver.find_element_by_id('ss')\n",
    "city_input.send_keys('Санкт-Петербург')"
   ]
  },
  {
   "cell_type": "code",
   "execution_count": 67,
   "metadata": {
    "ExecuteTime": {
     "end_time": "2018-02-10T09:23:02.345336Z",
     "start_time": "2018-02-10T09:23:02.285174Z"
    }
   },
   "outputs": [],
   "source": [
    "a = driver.find_element_by_name('checkin_monthday')"
   ]
  },
  {
   "cell_type": "code",
   "execution_count": 70,
   "metadata": {
    "ExecuteTime": {
     "end_time": "2018-02-10T09:23:38.212085Z",
     "start_time": "2018-02-10T09:23:38.095212Z"
    }
   },
   "outputs": [],
   "source": [
    "driver.find_element_by_name('checkin_month').send_keys(10)\n",
    "driver.find_element_by_name('checkin_monthday').send_keys(11)\n",
    "driver.find_element_by_name('checkin_year').send_keys(12)"
   ]
  },
  {
   "cell_type": "code",
   "execution_count": 38,
   "metadata": {
    "ExecuteTime": {
     "end_time": "2018-02-10T09:19:25.922270Z",
     "start_time": "2018-02-10T09:19:25.716705Z"
    }
   },
   "outputs": [],
   "source": [
    "# from_input = driver.find_element_by_class_name('sb-date-field b-datepicker')\n",
    "\n",
    "\n",
    "driver.find_element_by_name('checkin_month').send_keys(str(check_in.month))\n",
    "driver.find_element_by_name('checkin_monthday').send_keys(check_in.day)\n",
    "driver.find_element_by_name('checkin_year').send_keys(check_in.year)"
   ]
  },
  {
   "cell_type": "code",
   "execution_count": 25,
   "metadata": {
    "ExecuteTime": {
     "end_time": "2018-02-10T09:17:45.729545Z",
     "start_time": "2018-02-10T09:17:42.998250Z"
    }
   },
   "outputs": [],
   "source": [
    "driver.find_element_by_name('checkout_month').send_keys(check_out.month)\n",
    "driver.find_element_by_name('checkout_monthday').send_keys(check_out.day)\n",
    "driver.find_element_by_name('checkout_year').send_keys(check_out.year)\n",
    "\n",
    "Select(driver.find_element_by_name('no_rooms')).select_by_value(room_num)\n",
    "Select(driver.find_element_by_name('group_adults')).select_by_value(adult_num)\n",
    "Select(driver.find_element_by_name('group_children')).select_by_value(children_num)\n",
    "\n",
    "# driver.find_element_by_class_name('sb-searchbox__button').click()\n",
    "driver.find_element_by_class_name('sb-searchbox__button').submit()\n",
    "\n",
    "\n",
    "# driver.find_element_by_xpath(\"//a[@data-title='{}']\".format(DESTINATION)).click()\n",
    "# driver.find_element_by_xpath(\"//a[@data-id='pri-2']\").click()"
   ]
  },
  {
   "cell_type": "code",
   "execution_count": 27,
   "metadata": {
    "ExecuteTime": {
     "end_time": "2018-02-10T09:17:48.070374Z",
     "start_time": "2018-02-10T09:17:48.013992Z"
    }
   },
   "outputs": [
    {
     "data": {
      "text/plain": [
       "'https://www.booking.com/index.html?errorc_checkout_date_invalid=interval;errorc_checkout_date_invalid=checkout_daysfromnow;errorc_checkout_date_invalid=checkout_year;errorc_checkout_date_invalid=checkout_month;errorc_checkout_date_invalid=checkout_monthday;errorc_checkout_date_invalid=checkout_yearday;errorc_checkout_date_invalid=checkout_week;errorc_checkout_date_invalid=checkout_year_month;errorc_checkout_date_invalid=checkout_year_week;errorc_checkout_date_invalid=checkout;errorc_checkout_date_invalid=checkout_year_month_monthday;errorc_checkout_date_invalid=checkout_year_yearday;errorv_checkin_month=2;errorv_checkin_monthday=10;errorv_checkin_year=2018;errorv_checkout_month=2;errorv_checkout_monthday=11;errorv_class_interval=1;errorv_dest_id=-2996338;errorv_dest_type=city;errorv_error_url=https%253A%252F%252Fwww.booking.com%252Findex.html%253Flabel%253Dgen173nr-1DCAEoggJCAlhYSDNYBGjCAYgBAZgBMcIBA3gxMcgBD9gBA-gBAfgBApICAXmoAgM%253Bsid%253Dda087fb745a33d292b5c1c49e1d1dc80%253Bsb_price_type%253Dtotal%2526%253B;errorv_from_sf=1;errorv_group_adults=1;errorv_label_click=undef;errorv_no_rooms=1;errorv_room1=A;errorv_sb_price_type=total;errorv_src=index;errorv_src_elem=sb;errorv_ss=%25D0%25A1%25D0%25B0%25D0%25BD%25D0%25BA%25D1%2582-%25D0%259F%25D0%25B5%25D1%2582%25D0%25B5%25D1%2580%25D0%25B1%25D1%2583%25D1%2580%25D0%25B3;errorv_ssb=empty;label=gen173nr-1DCAEoggJCAlhYSDNYBGjCAYgBAZgBMcIBA3gxMcgBD9gBA-gBAfgBApICAXmoAgM;sb_price_type=total;sid=da087fb745a33d292b5c1c49e1d1dc80'"
      ]
     },
     "execution_count": 27,
     "metadata": {},
     "output_type": "execute_result"
    }
   ],
   "source": [
    "driver.current_url"
   ]
  },
  {
   "cell_type": "code",
   "execution_count": 18,
   "metadata": {
    "ExecuteTime": {
     "end_time": "2018-02-10T09:16:46.343886Z",
     "start_time": "2018-02-10T09:16:46.289852Z"
    }
   },
   "outputs": [
    {
     "data": {
      "text/plain": [
       "[]"
      ]
     },
     "execution_count": 18,
     "metadata": {},
     "output_type": "execute_result"
    }
   ],
   "source": [
    "hotels_els = driver.find_elements_by_css_selector(\"div[data-hotelid]\")\n",
    "hotels_els"
   ]
  },
  {
   "cell_type": "code",
   "execution_count": 15,
   "metadata": {
    "ExecuteTime": {
     "end_time": "2018-02-10T09:16:28.581433Z",
     "start_time": "2018-02-10T09:16:28.463232Z"
    }
   },
   "outputs": [],
   "source": [
    "## HOTELS\n",
    "hotels_els = driver.find_elements_by_css_selector(\"div[data-hotelid]\")\n",
    "\n",
    "\n",
    "hotels = []\n",
    "for hotel_el in hotels_els:\n",
    "    hotel = {}\n",
    "    hotel['id'] = hotel_el.get_attribute('data-hotelid')\n",
    "    hotel['name'] = hotel_el.find_element_by_class_name('sr-hotel__name').text\n",
    "    try: \n",
    "        price = hotel_el.find_element_by_class_name('price').text\n",
    "        hotel['price'] = int(''.join(filter(str.isdigit, price)))\n",
    "    except: \n",
    "        print('price not exist')\n",
    "    hotel['link'] = hotel_el.find_element_by_class_name('hotel_name_link').get_attribute('href')\n",
    "    hotels.append(hotel)"
   ]
  },
  {
   "cell_type": "code",
   "execution_count": 16,
   "metadata": {
    "ExecuteTime": {
     "end_time": "2018-02-10T09:16:30.035771Z",
     "start_time": "2018-02-10T09:16:29.985312Z"
    }
   },
   "outputs": [
    {
     "data": {
      "text/plain": [
       "[]"
      ]
     },
     "execution_count": 16,
     "metadata": {},
     "output_type": "execute_result"
    }
   ],
   "source": [
    "hotels"
   ]
  },
  {
   "cell_type": "code",
   "execution_count": null,
   "metadata": {},
   "outputs": [],
   "source": []
  }
 ],
 "metadata": {
  "kernelspec": {
   "display_name": "Python 3",
   "language": "python",
   "name": "python3"
  },
  "language_info": {
   "codemirror_mode": {
    "name": "ipython",
    "version": 3
   },
   "file_extension": ".py",
   "mimetype": "text/x-python",
   "name": "python",
   "nbconvert_exporter": "python",
   "pygments_lexer": "ipython3",
   "version": "3.5.2"
  },
  "toc": {
   "nav_menu": {},
   "number_sections": true,
   "sideBar": true,
   "skip_h1_title": false,
   "toc_cell": false,
   "toc_position": {},
   "toc_section_display": "block",
   "toc_window_display": false
  }
 },
 "nbformat": 4,
 "nbformat_minor": 2
}
