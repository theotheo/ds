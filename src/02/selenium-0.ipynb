{
 "cells": [
  {
   "cell_type": "markdown",
   "metadata": {
    "ExecuteTime": {
     "end_time": "2018-02-10T08:10:52.258056Z",
     "start_time": "2018-02-10T08:10:52.232409Z"
    }
   },
   "source": [
    "## Basic workflow"
   ]
  },
  {
   "cell_type": "markdown",
   "metadata": {},
   "source": [
    "### Импортируем нужный класс из соответствующего модуля Селениума"
   ]
  },
  {
   "cell_type": "code",
   "execution_count": 1,
   "metadata": {},
   "outputs": [
    {
     "name": "stdout",
     "output_type": "stream",
     "text": [
      "Requirement already satisfied: selenium in /home/i/.local/lib/python3.6/site-packages (3.141.0)\n",
      "Requirement already satisfied: urllib3 in /usr/lib/python3/dist-packages (from selenium) (1.22)\n",
      "\u001b[33mWARNING: You are using pip version 19.1.1, however version 19.2.3 is available.\n",
      "You should consider upgrading via the 'pip install --upgrade pip' command.\u001b[0m\n"
     ]
    }
   ],
   "source": [
    "! pip install selenium"
   ]
  },
  {
   "cell_type": "code",
   "execution_count": 1,
   "metadata": {
    "ExecuteTime": {
     "end_time": "2018-02-10T16:04:35.957760Z",
     "start_time": "2018-02-10T16:04:35.924032Z"
    }
   },
   "outputs": [],
   "source": [
    "# from selenium.webdriver import Firefox\n",
    "from selenium.webdriver import Chrome\n",
    "# from selenium.webdriver import Safari\n",
    "# from selenium.webdriver import Android"
   ]
  },
  {
   "cell_type": "markdown",
   "metadata": {
    "ExecuteTime": {
     "end_time": "2018-02-10T08:11:29.475145Z",
     "start_time": "2018-02-10T08:11:29.452974Z"
    }
   },
   "source": [
    "### Создаем \"шофера\""
   ]
  },
  {
   "cell_type": "code",
   "execution_count": 26,
   "metadata": {
    "ExecuteTime": {
     "end_time": "2018-02-10T16:14:28.307204Z",
     "start_time": "2018-02-10T16:14:23.677307Z"
    }
   },
   "outputs": [],
   "source": [
    "driver = Chrome(executable_path='/home/i/Downloads/chromedriver')"
   ]
  },
  {
   "cell_type": "markdown",
   "metadata": {},
   "source": [
    "### Просим загрузить интересующую нас страницу\n",
    "\"шеф подбрось\""
   ]
  },
  {
   "cell_type": "code",
   "execution_count": 27,
   "metadata": {
    "ExecuteTime": {
     "end_time": "2018-02-10T16:16:48.259831Z",
     "start_time": "2018-02-10T16:16:47.553293Z"
    }
   },
   "outputs": [],
   "source": [
    "\n",
    "driver.get('https://www.hse.ru/edu/vkr/')"
   ]
  },
  {
   "cell_type": "markdown",
   "metadata": {
    "ExecuteTime": {
     "end_time": "2018-02-10T08:18:13.768227Z",
     "start_time": "2018-02-10T08:18:13.721359Z"
    }
   },
   "source": [
    "### Просим шофера найти интересующийся элемент на странице\n",
    "Посредством css-cелектора. Например, поле для ввода."
   ]
  },
  {
   "cell_type": "code",
   "execution_count": 4,
   "metadata": {},
   "outputs": [
    {
     "ename": "AttributeError",
     "evalue": "'WebDriver' object has no attribute 'find_'",
     "output_type": "error",
     "traceback": [
      "\u001b[0;31m---------------------------------------------------------------------------\u001b[0m",
      "\u001b[0;31mAttributeError\u001b[0m                            Traceback (most recent call last)",
      "\u001b[0;32m<ipython-input-4-29b41317513f>\u001b[0m in \u001b[0;36m<module>\u001b[0;34m\u001b[0m\n\u001b[0;32m----> 1\u001b[0;31m \u001b[0mdriver\u001b[0m\u001b[0;34m.\u001b[0m\u001b[0mfind_\u001b[0m\u001b[0;34m\u001b[0m\u001b[0;34m\u001b[0m\u001b[0m\n\u001b[0m",
      "\u001b[0;31mAttributeError\u001b[0m: 'WebDriver' object has no attribute 'find_'"
     ]
    }
   ],
   "source": [
    "driver.find_"
   ]
  },
  {
   "cell_type": "code",
   "execution_count": 11,
   "metadata": {
    "ExecuteTime": {
     "end_time": "2018-02-10T16:18:43.349915Z",
     "start_time": "2018-02-10T16:18:43.306974Z"
    }
   },
   "outputs": [
    {
     "data": {
      "text/plain": [
       "<selenium.webdriver.remote.webelement.WebElement (session=\"9abdab5f99a10daa6558cdf01bb7578b\", element=\"82d47c74-d82f-44bf-93ce-e6974861e566\")>"
      ]
     },
     "execution_count": 11,
     "metadata": {},
     "output_type": "execute_result"
    }
   ],
   "source": [
    "search_input = driver.find_element_by_id('courses-title')\n",
    "search_input"
   ]
  },
  {
   "cell_type": "markdown",
   "metadata": {},
   "source": [
    "### Напечатаем в поле "
   ]
  },
  {
   "cell_type": "code",
   "execution_count": 6,
   "metadata": {
    "ExecuteTime": {
     "end_time": "2018-02-10T16:19:53.164153Z",
     "start_time": "2018-02-10T16:19:53.112192Z"
    }
   },
   "outputs": [],
   "source": [
    "search_input.clear()"
   ]
  },
  {
   "cell_type": "code",
   "execution_count": 12,
   "metadata": {
    "ExecuteTime": {
     "end_time": "2018-02-10T16:19:59.588796Z",
     "start_time": "2018-02-10T16:19:59.511040Z"
    }
   },
   "outputs": [],
   "source": [
    "search_input.send_keys('данные')"
   ]
  },
  {
   "cell_type": "code",
   "execution_count": 8,
   "metadata": {
    "ExecuteTime": {
     "end_time": "2018-02-10T16:20:23.158678Z",
     "start_time": "2018-02-10T16:20:23.091126Z"
    }
   },
   "outputs": [
    {
     "data": {
      "text/plain": [
       "''"
      ]
     },
     "execution_count": 8,
     "metadata": {},
     "output_type": "execute_result"
    }
   ],
   "source": [
    "search_input.text"
   ]
  },
  {
   "cell_type": "markdown",
   "metadata": {
    "ExecuteTime": {
     "end_time": "2018-02-10T08:24:36.601282Z",
     "start_time": "2018-02-10T08:24:36.573899Z"
    }
   },
   "source": [
    "### Жмакнем \"Enter\""
   ]
  },
  {
   "cell_type": "code",
   "execution_count": 13,
   "metadata": {
    "ExecuteTime": {
     "end_time": "2018-02-10T16:21:02.746866Z",
     "start_time": "2018-02-10T16:21:02.555101Z"
    }
   },
   "outputs": [],
   "source": [
    "search_input.submit()"
   ]
  },
  {
   "cell_type": "markdown",
   "metadata": {
    "ExecuteTime": {
     "end_time": "2018-02-10T08:33:50.363401Z",
     "start_time": "2018-02-10T08:33:50.316729Z"
    }
   },
   "source": [
    "### Найдем элементы  "
   ]
  },
  {
   "cell_type": "code",
   "execution_count": 16,
   "metadata": {
    "ExecuteTime": {
     "end_time": "2018-02-10T16:22:07.096452Z",
     "start_time": "2018-02-10T16:22:07.044017Z"
    }
   },
   "outputs": [
    {
     "data": {
      "text/plain": [
       "[<selenium.webdriver.remote.webelement.WebElement (session=\"9abdab5f99a10daa6558cdf01bb7578b\", element=\"e8dd2642-52ab-4df7-8feb-4185b258f6dc\")>,\n",
       " <selenium.webdriver.remote.webelement.WebElement (session=\"9abdab5f99a10daa6558cdf01bb7578b\", element=\"5cf529cb-1003-4fca-a4c1-523650add710\")>,\n",
       " <selenium.webdriver.remote.webelement.WebElement (session=\"9abdab5f99a10daa6558cdf01bb7578b\", element=\"2bf11c7b-9f2a-4958-9357-96a7fb07d5dc\")>,\n",
       " <selenium.webdriver.remote.webelement.WebElement (session=\"9abdab5f99a10daa6558cdf01bb7578b\", element=\"744ad3de-6d59-48b4-be49-dca7f0e03877\")>,\n",
       " <selenium.webdriver.remote.webelement.WebElement (session=\"9abdab5f99a10daa6558cdf01bb7578b\", element=\"d547af08-a9f2-40c9-8650-9ec40f7a8071\")>,\n",
       " <selenium.webdriver.remote.webelement.WebElement (session=\"9abdab5f99a10daa6558cdf01bb7578b\", element=\"c376bebd-f8e2-4088-a98d-e90ba3de0a5d\")>,\n",
       " <selenium.webdriver.remote.webelement.WebElement (session=\"9abdab5f99a10daa6558cdf01bb7578b\", element=\"723a73a3-0edb-48d3-91ba-db784c0021d7\")>,\n",
       " <selenium.webdriver.remote.webelement.WebElement (session=\"9abdab5f99a10daa6558cdf01bb7578b\", element=\"1dad15a0-fc67-40b0-9518-724dda947716\")>,\n",
       " <selenium.webdriver.remote.webelement.WebElement (session=\"9abdab5f99a10daa6558cdf01bb7578b\", element=\"060f93dd-7b30-43b6-8d7f-f9257c2288a4\")>,\n",
       " <selenium.webdriver.remote.webelement.WebElement (session=\"9abdab5f99a10daa6558cdf01bb7578b\", element=\"136cf3b5-68df-42b5-9474-4fad8c9f5690\")>]"
      ]
     },
     "execution_count": 16,
     "metadata": {},
     "output_type": "execute_result"
    }
   ],
   "source": [
    "els = driver.find_elements_by_css_selector('.cell.long')\n",
    "els"
   ]
  },
  {
   "cell_type": "markdown",
   "metadata": {},
   "source": [
    "#### Первый из найденных"
   ]
  },
  {
   "cell_type": "code",
   "execution_count": 18,
   "metadata": {
    "ExecuteTime": {
     "end_time": "2018-02-10T16:23:42.930632Z",
     "start_time": "2018-02-10T16:23:42.818448Z"
    }
   },
   "outputs": [
    {
     "name": "stdout",
     "output_type": "stream",
     "text": [
      "cell long\n",
      "\n",
      "None\n"
     ]
    }
   ],
   "source": [
    "el = els[2]\n",
    "el.location\n",
    "print(el.get_attribute('class'))\n",
    "print(el.get_attribute('id'))\n",
    "print(el.get_attribute('href'))"
   ]
  },
  {
   "cell_type": "code",
   "execution_count": 19,
   "metadata": {
    "ExecuteTime": {
     "end_time": "2018-02-10T16:26:05.664437Z",
     "start_time": "2018-02-10T16:26:05.580223Z"
    }
   },
   "outputs": [],
   "source": [
    "# a = el.find_element_by_tag_name('a')\n",
    "# a.text\n",
    "# a.get_attribute('href')\n",
    "# a.get_attribute('data-cthref')"
   ]
  },
  {
   "cell_type": "markdown",
   "metadata": {
    "ExecuteTime": {
     "end_time": "2018-02-10T13:52:58.330210Z",
     "start_time": "2018-02-10T13:52:58.292326Z"
    }
   },
   "source": [
    "### Извлечем ссылки и тайтлы"
   ]
  },
  {
   "cell_type": "code",
   "execution_count": 20,
   "metadata": {
    "ExecuteTime": {
     "end_time": "2018-02-10T16:26:23.175832Z",
     "start_time": "2018-02-10T16:26:22.861752Z"
    }
   },
   "outputs": [],
   "source": [
    "searches = []\n",
    "for el in els:\n",
    "    search = {}\n",
    "    snippet = el.find_element_by_tag_name('a')\n",
    "    search['title'] = snippet.text\n",
    "    search['link'] = snippet.get_attribute('href')\n",
    "    searches.append(search)\n",
    "    "
   ]
  },
  {
   "cell_type": "code",
   "execution_count": 21,
   "metadata": {
    "ExecuteTime": {
     "end_time": "2018-02-10T16:26:30.022461Z",
     "start_time": "2018-02-10T16:26:29.970557Z"
    }
   },
   "outputs": [
    {
     "data": {
      "text/plain": [
       "[{'title': 'Периодические данные диффеоморфизмов тора с одной седловой орбитой',\n",
       "  'link': 'https://www.hse.ru/edu/vkr/296279008'},\n",
       " {'title': 'Открытые данные рынка недвижимости: системы сбора, анализ собранных данных',\n",
       "  'link': 'https://www.hse.ru/edu/vkr/296306188'},\n",
       " {'title': 'Большие данные как объект гражданских прав: проблемы правового регулирования',\n",
       "  'link': 'https://www.hse.ru/edu/vkr/296295425'},\n",
       " {'title': 'Внутренняя миграция молодежи в РФ: данные социальных сетей',\n",
       "  'link': 'https://www.hse.ru/edu/vkr/296281435'},\n",
       " {'title': 'GPS-Paradata: Opportunities for Application in Computer-Assisted Personal Interviews on Tablets',\n",
       "  'link': 'https://www.hse.ru/edu/vkr/296304057'},\n",
       " {'title': 'Периодические данные диффеоморфизмов двумерной сферы с одной седловой орбитой',\n",
       "  'link': 'https://www.hse.ru/edu/vkr/296288795'},\n",
       " {'title': 'The Gap in Life Expectancy of Russians and European Nations: an Empirical Evidence',\n",
       "  'link': 'https://www.hse.ru/edu/vkr/296308419'},\n",
       " {'title': 'Local Football Sentiment and Returns from Stocks: Evidence from Europe',\n",
       "  'link': 'https://www.hse.ru/edu/vkr/296282658'},\n",
       " {'title': 'Big Data for Customer Journey Analytics in Online-Education',\n",
       "  'link': 'https://www.hse.ru/edu/vkr/296292409'},\n",
       " {'title': 'Большие данные: анализ потоковых данных в реальном времени',\n",
       "  'link': 'https://www.hse.ru/edu/vkr/219399372'}]"
      ]
     },
     "execution_count": 21,
     "metadata": {},
     "output_type": "execute_result"
    }
   ],
   "source": [
    "searches"
   ]
  },
  {
   "cell_type": "markdown",
   "metadata": {},
   "source": [
    "### Сохрани в эксель"
   ]
  },
  {
   "cell_type": "code",
   "execution_count": 22,
   "metadata": {
    "ExecuteTime": {
     "end_time": "2018-02-10T16:26:37.590098Z",
     "start_time": "2018-02-10T16:26:37.549874Z"
    }
   },
   "outputs": [],
   "source": [
    "import pandas as pd"
   ]
  },
  {
   "cell_type": "code",
   "execution_count": 24,
   "metadata": {
    "ExecuteTime": {
     "end_time": "2018-02-10T16:26:38.506008Z",
     "start_time": "2018-02-10T16:26:38.283701Z"
    }
   },
   "outputs": [],
   "source": [
    "pd.DataFrame(searches).to_excel('поиск.xls')"
   ]
  },
  {
   "cell_type": "markdown",
   "metadata": {},
   "source": [
    "### Фоточка на память"
   ]
  },
  {
   "cell_type": "code",
   "execution_count": 25,
   "metadata": {
    "ExecuteTime": {
     "end_time": "2018-02-10T16:30:26.967406Z",
     "start_time": "2018-02-10T16:30:26.888699Z"
    }
   },
   "outputs": [
    {
     "data": {
      "text/plain": [
       "True"
      ]
     },
     "execution_count": 25,
     "metadata": {},
     "output_type": "execute_result"
    }
   ],
   "source": [
    "driver.save_screenshot('0.png')"
   ]
  },
  {
   "cell_type": "code",
   "execution_count": 137,
   "metadata": {
    "ExecuteTime": {
     "end_time": "2018-02-10T16:33:24.820104Z",
     "start_time": "2018-02-10T16:33:22.221231Z"
    }
   },
   "outputs": [
    {
     "data": {
      "text/plain": [
       "'Войти\\nВсеНовостиВидеоКартыКартинкиЕщё\\nНастройки\\nИнструменты\\nРезультатов: примерно 226 000 000 (0,54 сек.) \\nLooking for results in English?\\nChange to English\\nОставить русский\\nИзменить язык\\n\\n\\nРоссия\\nГлавные новости\\nПенсии после 60:\\nкак эксперты\\nпредложили\\nповысить пенсионный возраст\\nРБК\\n1 день назад\\nКак в России\\nотреагировали на\\nпроход сборной\\nна открытии Олимпиады?\\nАргументы и факты\\n7 часов назад\\n«Форма санкций и\\nдискриминация»:\\nкак в России\\nотреагировали на решение CAS о недопуске спортсменов к ...\\nRT на русском\\n1 день назад\\nБольше результатов по запросу \"в россии\"\\nВ России - Новости Интерфакс\\nwww.interfax.ru/russia/\\nПутин на встрече с бюро РСПП не обсуждал американский \"кремлевский доклад\" · По словам главы РСПП, расчет США на то, что санкции оттолкнут деловую элиту России от президента, не оправдываются · Басманный суд приостановил решение о выдворении журналиста Феруза в Узбекистан.\\nНовости: Россия: Lenta.ru\\nhttps://lenta.ru/rubrics/russia/\\nПоследние новости России и мира на тему «Россия» за сегодня. На сайте Lenta.ru в рубрике «Россия» всегда свежие новости за день и неделю.\\nПорноместь в России. Как защитить самое личное - Hi-Tech Mail.Ru\\nhttps://hi-tech.mail.ru/review/pornomest-v-rossii-kak-zashchitit-samoe-lichnoe/\\n2 дня назад - В интернете гремит новая опасность — порноместь, когда бывший партнер публикует в сети интимные фото или видео, чтобы унизить другого. Порноместь стала реальной проблемой на Западе, добралась и до России. Анна Вовнякова рассказывает одну из таких историй и объясняет, ...\\nВ России - NEWSru.com\\nwww.newsru.com/russia/\\n\"Медиазона\" сообщила о требовании Роскомнадзора удалить скандальные фотографии с Приходько и Дерипаской Кроме того, в уведомлении Роскомнадзора, которые поступило в редакцию портала, говорится, что ссылка на новость внесена в реестр адресов, запрещенных к распространению в России.\\n«Гринпис» пожаловался в Интерпол на брошенные в России ... - РБК\\nhttps://www.rbc.ru/society/10/02/2018/5a7c40779a7947279b48ce6a\\n«Гринпис России» обратился в Интерпол с требованием проверить действия польской компании, поставившей своей российской «дочке» несколько тысяч бочек с токсичным веществом. Химикат оказался брошен в порту Калининграда.\\nВ России впервые освободили пожизненно ... - Российская газета\\nhttps://rg.ru/.../v-rossii-vpervye-osvobodili-pozhiznenno-osuzhdennogo-zakliuchenno...\\n2 дня назад - Пожизненно осужденному 63-летнему мужчине смягчили наказание и выпустили из колонии в ЯНАО. Это первый случай в России, когда преступник, получивший такой срок, выходит на свободу, В России впервые освободили пожизненно осужденного заключенного.\\nРоссия — Википедия\\nhttps://ru.wikipedia.org/wiki/Россия\\nРосси́я (от греч. Ρωσία — Русь; официально Росси́йская Федера́ция, на практике также используется аббревиатура РФ) — суверенное государство в Восточной Европе и Северной Азии. Население: 146 877 088 чел. (2018). Территория России, определяемая её Конституцией, составляет 17 125 191 км².\\nВ России впервые освободили пожизненно ... - Газета.ру\\nhttps://www.gazeta.ru › Общество › Власть и право\\n2 дня назад - Пожизненно заключенный и приговоренный ранее к расстрелу за жестокое убийство и расчленение 63-летний Анвар Масалимов вышел на свободу из колонии особо строгого режима «Полярная сова». Освобождение пожизненно заключенного произошло впервые в России. Решение ...\\nГлавные новости и события в России - РТ на русском - RT\\nhttps://russian.rt.com/tag/v-rossii\\nПоследние новости России, актуальные события в регионах и областях на важные и свежие темы - на сайте RT.\\nВместе с в россии часто ищут\\nновости россии и мира сегодня лента\\nновости россии сегодня\\nинтерфакс новости украина\\nновости мира и россии на этот час\\nновости россии шоу бизнеса\\nновости россии лайф\\nв россие\\nновости россии 24\\n1\\n2\\n3\\n4\\n5\\n6\\n7\\n8\\n9\\n10\\nСледующая\\nРоссия Санкт-Петербург - На основе вашего IP-адреса - Учитывать мое местоположение - Подробнее…\\nСправкаОтправить отзывКонфиденциальностьУсловия'"
      ]
     },
     "execution_count": 137,
     "metadata": {},
     "output_type": "execute_result"
    }
   ],
   "source": [
    "b = driver.find_element_by_tag_name('body')\n",
    "b.text"
   ]
  }
 ],
 "metadata": {
  "kernelspec": {
   "display_name": "Python 3",
   "language": "python",
   "name": "python3"
  },
  "language_info": {
   "codemirror_mode": {
    "name": "ipython",
    "version": 3
   },
   "file_extension": ".py",
   "mimetype": "text/x-python",
   "name": "python",
   "nbconvert_exporter": "python",
   "pygments_lexer": "ipython3",
   "version": "3.6.8"
  },
  "toc": {
   "nav_menu": {},
   "number_sections": true,
   "sideBar": true,
   "skip_h1_title": false,
   "toc_cell": false,
   "toc_position": {},
   "toc_section_display": "block",
   "toc_window_display": false
  }
 },
 "nbformat": 4,
 "nbformat_minor": 2
}
