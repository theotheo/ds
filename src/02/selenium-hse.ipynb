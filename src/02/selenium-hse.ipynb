{
 "cells": [
  {
   "cell_type": "markdown",
   "metadata": {
    "ExecuteTime": {
     "end_time": "2018-02-10T08:10:52.258056Z",
     "start_time": "2018-02-10T08:10:52.232409Z"
    }
   },
   "source": [
    "## Basic workflow"
   ]
  },
  {
   "cell_type": "markdown",
   "metadata": {},
   "source": [
    "- посмотреть версию chrome://version (вероятно 76)\n",
    "\n",
    "- скачать https://sites.google.com/a/chromium.org/chromedriver/downloads\n",
    "\n",
    "- распаковать в D:\\chromedriver"
   ]
  },
  {
   "cell_type": "markdown",
   "metadata": {},
   "source": [
    "### Импортируем нужный класс из соответствующего модуля Селениума"
   ]
  },
  {
   "cell_type": "code",
   "execution_count": 1,
   "metadata": {},
   "outputs": [
    {
     "name": "stdout",
     "output_type": "stream",
     "text": [
      "Requirement already satisfied: selenium in /home/i/.local/lib/python3.6/site-packages (3.141.0)\n",
      "Requirement already satisfied: urllib3 in /usr/lib/python3/dist-packages (from selenium) (1.22)\n",
      "\u001b[33mWARNING: You are using pip version 19.1.1, however version 19.2.3 is available.\n",
      "You should consider upgrading via the 'pip install --upgrade pip' command.\u001b[0m\n"
     ]
    }
   ],
   "source": [
    "! pip install selenium"
   ]
  },
  {
   "cell_type": "code",
   "execution_count": 1,
   "metadata": {
    "ExecuteTime": {
     "end_time": "2018-02-10T16:04:35.957760Z",
     "start_time": "2018-02-10T16:04:35.924032Z"
    }
   },
   "outputs": [],
   "source": [
    "# from selenium.webdriver import Firefox\n",
    "from selenium.webdriver import Chrome\n",
    "# from selenium.webdriver import Safari\n",
    "# from selenium.webdriver import Android"
   ]
  },
  {
   "cell_type": "markdown",
   "metadata": {
    "ExecuteTime": {
     "end_time": "2018-02-10T08:11:29.475145Z",
     "start_time": "2018-02-10T08:11:29.452974Z"
    }
   },
   "source": [
    "### Создаем \"шофера\""
   ]
  },
  {
   "cell_type": "code",
   "execution_count": 26,
   "metadata": {
    "ExecuteTime": {
     "end_time": "2018-02-10T16:14:28.307204Z",
     "start_time": "2018-02-10T16:14:23.677307Z"
    }
   },
   "outputs": [],
   "source": [
    "# path = '/home/i/Downloads/chromedriver'\n",
    "path = 'D:/chromedriver/chromedriver'\n",
    "driver = Chrome(executable_path=path)"
   ]
  },
  {
   "cell_type": "markdown",
   "metadata": {},
   "source": [
    "### Просим загрузить интересующую нас страницу\n",
    "\"шеф подбрось\""
   ]
  },
  {
   "cell_type": "code",
   "execution_count": 27,
   "metadata": {
    "ExecuteTime": {
     "end_time": "2018-02-10T16:16:48.259831Z",
     "start_time": "2018-02-10T16:16:47.553293Z"
    }
   },
   "outputs": [],
   "source": [
    "\n",
    "driver.get('https://www.hse.ru/edu/vkr/')"
   ]
  },
  {
   "cell_type": "markdown",
   "metadata": {
    "ExecuteTime": {
     "end_time": "2018-02-10T08:18:13.768227Z",
     "start_time": "2018-02-10T08:18:13.721359Z"
    }
   },
   "source": [
    "### Просим шофера найти интересующийся элемент на странице\n",
    "Посредством css-cелектора. Например, поле для ввода."
   ]
  },
  {
   "cell_type": "code",
   "execution_count": 4,
   "metadata": {},
   "outputs": [
    {
     "ename": "AttributeError",
     "evalue": "'WebDriver' object has no attribute 'find_'",
     "output_type": "error",
     "traceback": [
      "\u001b[0;31m---------------------------------------------------------------------------\u001b[0m",
      "\u001b[0;31mAttributeError\u001b[0m                            Traceback (most recent call last)",
      "\u001b[0;32m<ipython-input-4-29b41317513f>\u001b[0m in \u001b[0;36m<module>\u001b[0;34m\u001b[0m\n\u001b[0;32m----> 1\u001b[0;31m \u001b[0mdriver\u001b[0m\u001b[0;34m.\u001b[0m\u001b[0mfind_\u001b[0m\u001b[0;34m\u001b[0m\u001b[0;34m\u001b[0m\u001b[0m\n\u001b[0m",
      "\u001b[0;31mAttributeError\u001b[0m: 'WebDriver' object has no attribute 'find_'"
     ]
    }
   ],
   "source": [
    "driver.find_"
   ]
  },
  {
   "cell_type": "code",
   "execution_count": 11,
   "metadata": {
    "ExecuteTime": {
     "end_time": "2018-02-10T16:18:43.349915Z",
     "start_time": "2018-02-10T16:18:43.306974Z"
    }
   },
   "outputs": [
    {
     "data": {
      "text/plain": [
       "<selenium.webdriver.remote.webelement.WebElement (session=\"9abdab5f99a10daa6558cdf01bb7578b\", element=\"82d47c74-d82f-44bf-93ce-e6974861e566\")>"
      ]
     },
     "execution_count": 11,
     "metadata": {},
     "output_type": "execute_result"
    }
   ],
   "source": [
    "search_input = driver.find_element_by_id('courses-title')\n",
    "search_input"
   ]
  },
  {
   "cell_type": "markdown",
   "metadata": {},
   "source": [
    "### Напечатаем в поле "
   ]
  },
  {
   "cell_type": "code",
   "execution_count": 6,
   "metadata": {
    "ExecuteTime": {
     "end_time": "2018-02-10T16:19:53.164153Z",
     "start_time": "2018-02-10T16:19:53.112192Z"
    }
   },
   "outputs": [],
   "source": [
    "search_input.clear()"
   ]
  },
  {
   "cell_type": "code",
   "execution_count": 12,
   "metadata": {
    "ExecuteTime": {
     "end_time": "2018-02-10T16:19:59.588796Z",
     "start_time": "2018-02-10T16:19:59.511040Z"
    }
   },
   "outputs": [],
   "source": [
    "search_input.send_keys('данные')"
   ]
  },
  {
   "cell_type": "code",
   "execution_count": 8,
   "metadata": {
    "ExecuteTime": {
     "end_time": "2018-02-10T16:20:23.158678Z",
     "start_time": "2018-02-10T16:20:23.091126Z"
    }
   },
   "outputs": [
    {
     "data": {
      "text/plain": [
       "''"
      ]
     },
     "execution_count": 8,
     "metadata": {},
     "output_type": "execute_result"
    }
   ],
   "source": [
    "search_input.text"
   ]
  },
  {
   "cell_type": "markdown",
   "metadata": {
    "ExecuteTime": {
     "end_time": "2018-02-10T08:24:36.601282Z",
     "start_time": "2018-02-10T08:24:36.573899Z"
    }
   },
   "source": [
    "### Жмакнем \"Enter\""
   ]
  },
  {
   "cell_type": "code",
   "execution_count": 13,
   "metadata": {
    "ExecuteTime": {
     "end_time": "2018-02-10T16:21:02.746866Z",
     "start_time": "2018-02-10T16:21:02.555101Z"
    }
   },
   "outputs": [],
   "source": [
    "search_input.submit()"
   ]
  },
  {
   "cell_type": "markdown",
   "metadata": {
    "ExecuteTime": {
     "end_time": "2018-02-10T08:33:50.363401Z",
     "start_time": "2018-02-10T08:33:50.316729Z"
    }
   },
   "source": [
    "### Найдем элементы  "
   ]
  },
  {
   "cell_type": "code",
   "execution_count": 16,
   "metadata": {
    "ExecuteTime": {
     "end_time": "2018-02-10T16:22:07.096452Z",
     "start_time": "2018-02-10T16:22:07.044017Z"
    }
   },
   "outputs": [
    {
     "data": {
      "text/plain": [
       "[<selenium.webdriver.remote.webelement.WebElement (session=\"9abdab5f99a10daa6558cdf01bb7578b\", element=\"e8dd2642-52ab-4df7-8feb-4185b258f6dc\")>,\n",
       " <selenium.webdriver.remote.webelement.WebElement (session=\"9abdab5f99a10daa6558cdf01bb7578b\", element=\"5cf529cb-1003-4fca-a4c1-523650add710\")>,\n",
       " <selenium.webdriver.remote.webelement.WebElement (session=\"9abdab5f99a10daa6558cdf01bb7578b\", element=\"2bf11c7b-9f2a-4958-9357-96a7fb07d5dc\")>,\n",
       " <selenium.webdriver.remote.webelement.WebElement (session=\"9abdab5f99a10daa6558cdf01bb7578b\", element=\"744ad3de-6d59-48b4-be49-dca7f0e03877\")>,\n",
       " <selenium.webdriver.remote.webelement.WebElement (session=\"9abdab5f99a10daa6558cdf01bb7578b\", element=\"d547af08-a9f2-40c9-8650-9ec40f7a8071\")>,\n",
       " <selenium.webdriver.remote.webelement.WebElement (session=\"9abdab5f99a10daa6558cdf01bb7578b\", element=\"c376bebd-f8e2-4088-a98d-e90ba3de0a5d\")>,\n",
       " <selenium.webdriver.remote.webelement.WebElement (session=\"9abdab5f99a10daa6558cdf01bb7578b\", element=\"723a73a3-0edb-48d3-91ba-db784c0021d7\")>,\n",
       " <selenium.webdriver.remote.webelement.WebElement (session=\"9abdab5f99a10daa6558cdf01bb7578b\", element=\"1dad15a0-fc67-40b0-9518-724dda947716\")>,\n",
       " <selenium.webdriver.remote.webelement.WebElement (session=\"9abdab5f99a10daa6558cdf01bb7578b\", element=\"060f93dd-7b30-43b6-8d7f-f9257c2288a4\")>,\n",
       " <selenium.webdriver.remote.webelement.WebElement (session=\"9abdab5f99a10daa6558cdf01bb7578b\", element=\"136cf3b5-68df-42b5-9474-4fad8c9f5690\")>]"
      ]
     },
     "execution_count": 16,
     "metadata": {},
     "output_type": "execute_result"
    }
   ],
   "source": [
    "els = driver.find_elements_by_css_selector('.cell.long')\n",
    "els"
   ]
  },
  {
   "cell_type": "markdown",
   "metadata": {},
   "source": [
    "#### Первый из найденных"
   ]
  },
  {
   "cell_type": "code",
   "execution_count": 18,
   "metadata": {
    "ExecuteTime": {
     "end_time": "2018-02-10T16:23:42.930632Z",
     "start_time": "2018-02-10T16:23:42.818448Z"
    }
   },
   "outputs": [
    {
     "name": "stdout",
     "output_type": "stream",
     "text": [
      "cell long\n",
      "\n",
      "None\n"
     ]
    }
   ],
   "source": [
    "el = els[2]\n",
    "el.location\n",
    "print(el.get_attribute('class'))\n",
    "print(el.get_attribute('id'))\n",
    "print(el.get_attribute('href'))"
   ]
  },
  {
   "cell_type": "code",
   "execution_count": 19,
   "metadata": {
    "ExecuteTime": {
     "end_time": "2018-02-10T16:26:05.664437Z",
     "start_time": "2018-02-10T16:26:05.580223Z"
    }
   },
   "outputs": [],
   "source": [
    "# a = el.find_element_by_tag_name('a')\n",
    "# a.text\n",
    "# a.get_attribute('href')\n",
    "# a.get_attribute('data-cthref')"
   ]
  },
  {
   "cell_type": "markdown",
   "metadata": {
    "ExecuteTime": {
     "end_time": "2018-02-10T13:52:58.330210Z",
     "start_time": "2018-02-10T13:52:58.292326Z"
    }
   },
   "source": [
    "### Извлечем ссылки и тайтлы"
   ]
  },
  {
   "cell_type": "code",
   "execution_count": 20,
   "metadata": {
    "ExecuteTime": {
     "end_time": "2018-02-10T16:26:23.175832Z",
     "start_time": "2018-02-10T16:26:22.861752Z"
    }
   },
   "outputs": [],
   "source": [
    "searches = []\n",
    "for el in els:\n",
    "    search = {}\n",
    "    snippet = el.find_element_by_tag_name('a')\n",
    "    search['title'] = snippet.text\n",
    "    search['link'] = snippet.get_attribute('href')\n",
    "    searches.append(search)\n",
    "    "
   ]
  },
  {
   "cell_type": "code",
   "execution_count": 21,
   "metadata": {
    "ExecuteTime": {
     "end_time": "2018-02-10T16:26:30.022461Z",
     "start_time": "2018-02-10T16:26:29.970557Z"
    }
   },
   "outputs": [
    {
     "data": {
      "text/plain": [
       "[{'title': 'Периодические данные диффеоморфизмов тора с одной седловой орбитой',\n",
       "  'link': 'https://www.hse.ru/edu/vkr/296279008'},\n",
       " {'title': 'Открытые данные рынка недвижимости: системы сбора, анализ собранных данных',\n",
       "  'link': 'https://www.hse.ru/edu/vkr/296306188'},\n",
       " {'title': 'Большие данные как объект гражданских прав: проблемы правового регулирования',\n",
       "  'link': 'https://www.hse.ru/edu/vkr/296295425'},\n",
       " {'title': 'Внутренняя миграция молодежи в РФ: данные социальных сетей',\n",
       "  'link': 'https://www.hse.ru/edu/vkr/296281435'},\n",
       " {'title': 'GPS-Paradata: Opportunities for Application in Computer-Assisted Personal Interviews on Tablets',\n",
       "  'link': 'https://www.hse.ru/edu/vkr/296304057'},\n",
       " {'title': 'Периодические данные диффеоморфизмов двумерной сферы с одной седловой орбитой',\n",
       "  'link': 'https://www.hse.ru/edu/vkr/296288795'},\n",
       " {'title': 'The Gap in Life Expectancy of Russians and European Nations: an Empirical Evidence',\n",
       "  'link': 'https://www.hse.ru/edu/vkr/296308419'},\n",
       " {'title': 'Local Football Sentiment and Returns from Stocks: Evidence from Europe',\n",
       "  'link': 'https://www.hse.ru/edu/vkr/296282658'},\n",
       " {'title': 'Big Data for Customer Journey Analytics in Online-Education',\n",
       "  'link': 'https://www.hse.ru/edu/vkr/296292409'},\n",
       " {'title': 'Большие данные: анализ потоковых данных в реальном времени',\n",
       "  'link': 'https://www.hse.ru/edu/vkr/219399372'}]"
      ]
     },
     "execution_count": 21,
     "metadata": {},
     "output_type": "execute_result"
    }
   ],
   "source": [
    "searches"
   ]
  },
  {
   "cell_type": "markdown",
   "metadata": {},
   "source": [
    "### Сохрани в эксель"
   ]
  },
  {
   "cell_type": "code",
   "execution_count": 22,
   "metadata": {
    "ExecuteTime": {
     "end_time": "2018-02-10T16:26:37.590098Z",
     "start_time": "2018-02-10T16:26:37.549874Z"
    }
   },
   "outputs": [],
   "source": [
    "import pandas as pd"
   ]
  },
  {
   "cell_type": "code",
   "execution_count": 24,
   "metadata": {
    "ExecuteTime": {
     "end_time": "2018-02-10T16:26:38.506008Z",
     "start_time": "2018-02-10T16:26:38.283701Z"
    }
   },
   "outputs": [],
   "source": [
    "pd.DataFrame(searches).to_excel('поиск.xls')"
   ]
  },
  {
   "cell_type": "markdown",
   "metadata": {},
   "source": [
    "### Фоточка на память"
   ]
  },
  {
   "cell_type": "code",
   "execution_count": 25,
   "metadata": {
    "ExecuteTime": {
     "end_time": "2018-02-10T16:30:26.967406Z",
     "start_time": "2018-02-10T16:30:26.888699Z"
    }
   },
   "outputs": [
    {
     "data": {
      "text/plain": [
       "True"
      ]
     },
     "execution_count": 25,
     "metadata": {},
     "output_type": "execute_result"
    }
   ],
   "source": [
    "driver.save_screenshot('0.png')"
   ]
  }
 ],
 "metadata": {
  "kernelspec": {
   "display_name": "Python 3",
   "language": "python",
   "name": "python3"
  },
  "language_info": {
   "codemirror_mode": {
    "name": "ipython",
    "version": 3
   },
   "file_extension": ".py",
   "mimetype": "text/x-python",
   "name": "python",
   "nbconvert_exporter": "python",
   "pygments_lexer": "ipython3",
   "version": "3.6.8"
  },
  "toc": {
   "nav_menu": {},
   "number_sections": true,
   "sideBar": true,
   "skip_h1_title": false,
   "toc_cell": false,
   "toc_position": {},
   "toc_section_display": "block",
   "toc_window_display": false
  }
 },
 "nbformat": 4,
 "nbformat_minor": 2
}
